{
  "nbformat": 4,
  "nbformat_minor": 0,
  "metadata": {
    "colab": {
      "provenance": [],
      "toc_visible": true,
      "authorship_tag": "ABX9TyNnUyxZMake+DCRVXdu01ZC"
    },
    "kernelspec": {
      "name": "python3",
      "display_name": "Python 3"
    },
    "language_info": {
      "name": "python"
    }
  },
  "cells": [
    {
      "cell_type": "markdown",
      "source": [
        "# 1. Wstęp do projektu. Import bibliotek oraz danych z dysku."
      ],
      "metadata": {
        "id": "Hm7ZMIY5Winw"
      }
    },
    {
      "cell_type": "markdown",
      "source": [
        "W poniższym projekcie badam dane statystyczne o państwach na świecie.  \n",
        "Przyjrzymy się głównie PKB i towarzyszącym mu nierównościom, a także czynnikom które towarzyszą zróżnicowaniu.  \n",
        "Zbadamy bliżej kilka zależności między PKB a innymi czynnikami.  \n",
        "\n",
        "Na koniec spróbuję zaimplementować prosty algorytm do przewidywania PKB krajów.  \n",
        "  \n",
        "\n",
        "Link do zbioru danych użytych w projekcie:  \n",
        "https://www.kaggle.com/datasets/fernandol/countries-of-the-world?resource=download\n"
      ],
      "metadata": {
        "id": "aZsfrohLbHb-"
      }
    },
    {
      "cell_type": "code",
      "execution_count": null,
      "metadata": {
        "id": "kthrbZaP4xii"
      },
      "outputs": [],
      "source": [
        "# Importujemy biblioteki\n",
        "import numpy as np\n",
        "import pandas as pd\n",
        "import matplotlib.pyplot as plt\n",
        "import seaborn as sns\n",
        "\n",
        "from google.colab import drive"
      ]
    },
    {
      "cell_type": "code",
      "source": [
        "drive.mount(\"/content/drive\")\n"
      ],
      "metadata": {
        "id": "R0lWMjL-QQgA",
        "colab": {
          "base_uri": "https://localhost:8080/"
        },
        "outputId": "632424e0-0f31-4a36-8fa0-d803d045def2"
      },
      "execution_count": null,
      "outputs": [
        {
          "output_type": "stream",
          "name": "stdout",
          "text": [
            "Drive already mounted at /content/drive; to attempt to forcibly remount, call drive.mount(\"/content/drive\", force_remount=True).\n"
          ]
        }
      ]
    },
    {
      "cell_type": "code",
      "source": [
        "# Sprawdzamy zawartość\n",
        "!ls /content/drive/MyDrive/ColabNotebooks/"
      ],
      "metadata": {
        "colab": {
          "base_uri": "https://localhost:8080/"
        },
        "id": "QS8vXl4AgKtS",
        "outputId": "eaf0084f-6152-4db1-a158-ca5ec9098669"
      },
      "execution_count": null,
      "outputs": [
        {
          "output_type": "stream",
          "name": "stdout",
          "text": [
            "countries-of-the-world.csv  ProjektAiKraje.ipynb\n"
          ]
        }
      ]
    },
    {
      "cell_type": "code",
      "source": [
        "# Importujemy dane z dysku Google\n",
        "kraje = pd.read_csv(\"/content/drive/MyDrive/ColabNotebooks/countries-of-the-world.csv\")\n",
        "\n",
        "# Dane pobrane oryginalnie z Kaggle\n",
        "# https://www.kaggle.com/datasets/fernandol/countries-of-the-world?resource=download"
      ],
      "metadata": {
        "id": "Zbm5fif3Tsh7"
      },
      "execution_count": null,
      "outputs": []
    },
    {
      "cell_type": "markdown",
      "source": [
        "# 2. Eksplorujemy zaimportowane dane"
      ],
      "metadata": {
        "id": "VsoVr-vaWYvn"
      }
    },
    {
      "cell_type": "code",
      "source": [
        "kraje.head(10)"
      ],
      "metadata": {
        "colab": {
          "base_uri": "https://localhost:8080/",
          "height": 709
        },
        "id": "9haYQdGbVsq7",
        "outputId": "38cf3144-2ef7-45dc-93b0-b217855fa820"
      },
      "execution_count": null,
      "outputs": [
        {
          "output_type": "execute_result",
          "data": {
            "text/plain": [
              "              Country                               Region  Population  \\\n",
              "0        Afghanistan         ASIA (EX. NEAR EAST)             31056997   \n",
              "1            Albania   EASTERN EUROPE                          3581655   \n",
              "2            Algeria   NORTHERN AFRICA                        32930091   \n",
              "3     American Samoa   OCEANIA                                   57794   \n",
              "4            Andorra   WESTERN EUROPE                            71201   \n",
              "5             Angola   SUB-SAHARAN AFRICA                     12127071   \n",
              "6           Anguilla               LATIN AMER. & CARIB           13477   \n",
              "7  Antigua & Barbuda               LATIN AMER. & CARIB           69108   \n",
              "8          Argentina               LATIN AMER. & CARIB        39921833   \n",
              "9            Armenia                  C.W. OF IND. STATES      2976372   \n",
              "\n",
              "   Area (sq. mi.) Pop. Density (per sq. mi.) Coastline (coast/area ratio)  \\\n",
              "0          647500                       48,0                         0,00   \n",
              "1           28748                      124,6                         1,26   \n",
              "2         2381740                       13,8                         0,04   \n",
              "3             199                      290,4                        58,29   \n",
              "4             468                      152,1                         0,00   \n",
              "5         1246700                        9,7                         0,13   \n",
              "6             102                      132,1                        59,80   \n",
              "7             443                      156,0                        34,54   \n",
              "8         2766890                       14,4                         0,18   \n",
              "9           29800                       99,9                         0,00   \n",
              "\n",
              "  Net migration Infant mortality (per 1000 births)  GDP ($ per capita)  \\\n",
              "0         23,06                             163,07               700.0   \n",
              "1         -4,93                              21,52              4500.0   \n",
              "2         -0,39                                 31              6000.0   \n",
              "3        -20,71                               9,27              8000.0   \n",
              "4           6,6                               4,05             19000.0   \n",
              "5             0                             191,19              1900.0   \n",
              "6         10,76                              21,03              8600.0   \n",
              "7         -6,15                              19,46             11000.0   \n",
              "8          0,61                              15,18             11200.0   \n",
              "9         -6,47                              23,28              3500.0   \n",
              "\n",
              "  Literacy (%) Phones (per 1000) Arable (%) Crops (%) Other (%) Climate  \\\n",
              "0         36,0               3,2      12,13      0,22     87,65       1   \n",
              "1         86,5              71,2      21,09      4,42     74,49       3   \n",
              "2         70,0              78,1       3,22      0,25     96,53       1   \n",
              "3         97,0             259,5         10        15        75       2   \n",
              "4        100,0             497,2       2,22         0     97,78       3   \n",
              "5         42,0               7,8       2,41      0,24     97,35     NaN   \n",
              "6         95,0             460,0          0         0       100       2   \n",
              "7         89,0             549,9      18,18      4,55     77,27       2   \n",
              "8         97,1             220,4      12,31      0,48     87,21       3   \n",
              "9         98,6             195,7      17,55       2,3     80,15       4   \n",
              "\n",
              "  Birthrate Deathrate Agriculture Industry Service  \n",
              "0      46,6     20,34        0,38     0,24    0,38  \n",
              "1     15,11      5,22       0,232    0,188   0,579  \n",
              "2     17,14      4,61       0,101      0,6   0,298  \n",
              "3     22,46      3,27         NaN      NaN     NaN  \n",
              "4      8,71      6,25         NaN      NaN     NaN  \n",
              "5     45,11      24,2       0,096    0,658   0,246  \n",
              "6     14,17      5,34        0,04     0,18    0,78  \n",
              "7     16,93      5,37       0,038     0,22   0,743  \n",
              "8     16,73      7,55       0,095    0,358   0,547  \n",
              "9     12,07      8,23       0,239    0,343   0,418  "
            ],
            "text/html": [
              "\n",
              "  <div id=\"df-98221a73-e280-4306-9cf7-a6bcf120a820\">\n",
              "    <div class=\"colab-df-container\">\n",
              "      <div>\n",
              "<style scoped>\n",
              "    .dataframe tbody tr th:only-of-type {\n",
              "        vertical-align: middle;\n",
              "    }\n",
              "\n",
              "    .dataframe tbody tr th {\n",
              "        vertical-align: top;\n",
              "    }\n",
              "\n",
              "    .dataframe thead th {\n",
              "        text-align: right;\n",
              "    }\n",
              "</style>\n",
              "<table border=\"1\" class=\"dataframe\">\n",
              "  <thead>\n",
              "    <tr style=\"text-align: right;\">\n",
              "      <th></th>\n",
              "      <th>Country</th>\n",
              "      <th>Region</th>\n",
              "      <th>Population</th>\n",
              "      <th>Area (sq. mi.)</th>\n",
              "      <th>Pop. Density (per sq. mi.)</th>\n",
              "      <th>Coastline (coast/area ratio)</th>\n",
              "      <th>Net migration</th>\n",
              "      <th>Infant mortality (per 1000 births)</th>\n",
              "      <th>GDP ($ per capita)</th>\n",
              "      <th>Literacy (%)</th>\n",
              "      <th>Phones (per 1000)</th>\n",
              "      <th>Arable (%)</th>\n",
              "      <th>Crops (%)</th>\n",
              "      <th>Other (%)</th>\n",
              "      <th>Climate</th>\n",
              "      <th>Birthrate</th>\n",
              "      <th>Deathrate</th>\n",
              "      <th>Agriculture</th>\n",
              "      <th>Industry</th>\n",
              "      <th>Service</th>\n",
              "    </tr>\n",
              "  </thead>\n",
              "  <tbody>\n",
              "    <tr>\n",
              "      <th>0</th>\n",
              "      <td>Afghanistan</td>\n",
              "      <td>ASIA (EX. NEAR EAST)</td>\n",
              "      <td>31056997</td>\n",
              "      <td>647500</td>\n",
              "      <td>48,0</td>\n",
              "      <td>0,00</td>\n",
              "      <td>23,06</td>\n",
              "      <td>163,07</td>\n",
              "      <td>700.0</td>\n",
              "      <td>36,0</td>\n",
              "      <td>3,2</td>\n",
              "      <td>12,13</td>\n",
              "      <td>0,22</td>\n",
              "      <td>87,65</td>\n",
              "      <td>1</td>\n",
              "      <td>46,6</td>\n",
              "      <td>20,34</td>\n",
              "      <td>0,38</td>\n",
              "      <td>0,24</td>\n",
              "      <td>0,38</td>\n",
              "    </tr>\n",
              "    <tr>\n",
              "      <th>1</th>\n",
              "      <td>Albania</td>\n",
              "      <td>EASTERN EUROPE</td>\n",
              "      <td>3581655</td>\n",
              "      <td>28748</td>\n",
              "      <td>124,6</td>\n",
              "      <td>1,26</td>\n",
              "      <td>-4,93</td>\n",
              "      <td>21,52</td>\n",
              "      <td>4500.0</td>\n",
              "      <td>86,5</td>\n",
              "      <td>71,2</td>\n",
              "      <td>21,09</td>\n",
              "      <td>4,42</td>\n",
              "      <td>74,49</td>\n",
              "      <td>3</td>\n",
              "      <td>15,11</td>\n",
              "      <td>5,22</td>\n",
              "      <td>0,232</td>\n",
              "      <td>0,188</td>\n",
              "      <td>0,579</td>\n",
              "    </tr>\n",
              "    <tr>\n",
              "      <th>2</th>\n",
              "      <td>Algeria</td>\n",
              "      <td>NORTHERN AFRICA</td>\n",
              "      <td>32930091</td>\n",
              "      <td>2381740</td>\n",
              "      <td>13,8</td>\n",
              "      <td>0,04</td>\n",
              "      <td>-0,39</td>\n",
              "      <td>31</td>\n",
              "      <td>6000.0</td>\n",
              "      <td>70,0</td>\n",
              "      <td>78,1</td>\n",
              "      <td>3,22</td>\n",
              "      <td>0,25</td>\n",
              "      <td>96,53</td>\n",
              "      <td>1</td>\n",
              "      <td>17,14</td>\n",
              "      <td>4,61</td>\n",
              "      <td>0,101</td>\n",
              "      <td>0,6</td>\n",
              "      <td>0,298</td>\n",
              "    </tr>\n",
              "    <tr>\n",
              "      <th>3</th>\n",
              "      <td>American Samoa</td>\n",
              "      <td>OCEANIA</td>\n",
              "      <td>57794</td>\n",
              "      <td>199</td>\n",
              "      <td>290,4</td>\n",
              "      <td>58,29</td>\n",
              "      <td>-20,71</td>\n",
              "      <td>9,27</td>\n",
              "      <td>8000.0</td>\n",
              "      <td>97,0</td>\n",
              "      <td>259,5</td>\n",
              "      <td>10</td>\n",
              "      <td>15</td>\n",
              "      <td>75</td>\n",
              "      <td>2</td>\n",
              "      <td>22,46</td>\n",
              "      <td>3,27</td>\n",
              "      <td>NaN</td>\n",
              "      <td>NaN</td>\n",
              "      <td>NaN</td>\n",
              "    </tr>\n",
              "    <tr>\n",
              "      <th>4</th>\n",
              "      <td>Andorra</td>\n",
              "      <td>WESTERN EUROPE</td>\n",
              "      <td>71201</td>\n",
              "      <td>468</td>\n",
              "      <td>152,1</td>\n",
              "      <td>0,00</td>\n",
              "      <td>6,6</td>\n",
              "      <td>4,05</td>\n",
              "      <td>19000.0</td>\n",
              "      <td>100,0</td>\n",
              "      <td>497,2</td>\n",
              "      <td>2,22</td>\n",
              "      <td>0</td>\n",
              "      <td>97,78</td>\n",
              "      <td>3</td>\n",
              "      <td>8,71</td>\n",
              "      <td>6,25</td>\n",
              "      <td>NaN</td>\n",
              "      <td>NaN</td>\n",
              "      <td>NaN</td>\n",
              "    </tr>\n",
              "    <tr>\n",
              "      <th>5</th>\n",
              "      <td>Angola</td>\n",
              "      <td>SUB-SAHARAN AFRICA</td>\n",
              "      <td>12127071</td>\n",
              "      <td>1246700</td>\n",
              "      <td>9,7</td>\n",
              "      <td>0,13</td>\n",
              "      <td>0</td>\n",
              "      <td>191,19</td>\n",
              "      <td>1900.0</td>\n",
              "      <td>42,0</td>\n",
              "      <td>7,8</td>\n",
              "      <td>2,41</td>\n",
              "      <td>0,24</td>\n",
              "      <td>97,35</td>\n",
              "      <td>NaN</td>\n",
              "      <td>45,11</td>\n",
              "      <td>24,2</td>\n",
              "      <td>0,096</td>\n",
              "      <td>0,658</td>\n",
              "      <td>0,246</td>\n",
              "    </tr>\n",
              "    <tr>\n",
              "      <th>6</th>\n",
              "      <td>Anguilla</td>\n",
              "      <td>LATIN AMER. &amp; CARIB</td>\n",
              "      <td>13477</td>\n",
              "      <td>102</td>\n",
              "      <td>132,1</td>\n",
              "      <td>59,80</td>\n",
              "      <td>10,76</td>\n",
              "      <td>21,03</td>\n",
              "      <td>8600.0</td>\n",
              "      <td>95,0</td>\n",
              "      <td>460,0</td>\n",
              "      <td>0</td>\n",
              "      <td>0</td>\n",
              "      <td>100</td>\n",
              "      <td>2</td>\n",
              "      <td>14,17</td>\n",
              "      <td>5,34</td>\n",
              "      <td>0,04</td>\n",
              "      <td>0,18</td>\n",
              "      <td>0,78</td>\n",
              "    </tr>\n",
              "    <tr>\n",
              "      <th>7</th>\n",
              "      <td>Antigua &amp; Barbuda</td>\n",
              "      <td>LATIN AMER. &amp; CARIB</td>\n",
              "      <td>69108</td>\n",
              "      <td>443</td>\n",
              "      <td>156,0</td>\n",
              "      <td>34,54</td>\n",
              "      <td>-6,15</td>\n",
              "      <td>19,46</td>\n",
              "      <td>11000.0</td>\n",
              "      <td>89,0</td>\n",
              "      <td>549,9</td>\n",
              "      <td>18,18</td>\n",
              "      <td>4,55</td>\n",
              "      <td>77,27</td>\n",
              "      <td>2</td>\n",
              "      <td>16,93</td>\n",
              "      <td>5,37</td>\n",
              "      <td>0,038</td>\n",
              "      <td>0,22</td>\n",
              "      <td>0,743</td>\n",
              "    </tr>\n",
              "    <tr>\n",
              "      <th>8</th>\n",
              "      <td>Argentina</td>\n",
              "      <td>LATIN AMER. &amp; CARIB</td>\n",
              "      <td>39921833</td>\n",
              "      <td>2766890</td>\n",
              "      <td>14,4</td>\n",
              "      <td>0,18</td>\n",
              "      <td>0,61</td>\n",
              "      <td>15,18</td>\n",
              "      <td>11200.0</td>\n",
              "      <td>97,1</td>\n",
              "      <td>220,4</td>\n",
              "      <td>12,31</td>\n",
              "      <td>0,48</td>\n",
              "      <td>87,21</td>\n",
              "      <td>3</td>\n",
              "      <td>16,73</td>\n",
              "      <td>7,55</td>\n",
              "      <td>0,095</td>\n",
              "      <td>0,358</td>\n",
              "      <td>0,547</td>\n",
              "    </tr>\n",
              "    <tr>\n",
              "      <th>9</th>\n",
              "      <td>Armenia</td>\n",
              "      <td>C.W. OF IND. STATES</td>\n",
              "      <td>2976372</td>\n",
              "      <td>29800</td>\n",
              "      <td>99,9</td>\n",
              "      <td>0,00</td>\n",
              "      <td>-6,47</td>\n",
              "      <td>23,28</td>\n",
              "      <td>3500.0</td>\n",
              "      <td>98,6</td>\n",
              "      <td>195,7</td>\n",
              "      <td>17,55</td>\n",
              "      <td>2,3</td>\n",
              "      <td>80,15</td>\n",
              "      <td>4</td>\n",
              "      <td>12,07</td>\n",
              "      <td>8,23</td>\n",
              "      <td>0,239</td>\n",
              "      <td>0,343</td>\n",
              "      <td>0,418</td>\n",
              "    </tr>\n",
              "  </tbody>\n",
              "</table>\n",
              "</div>\n",
              "      <button class=\"colab-df-convert\" onclick=\"convertToInteractive('df-98221a73-e280-4306-9cf7-a6bcf120a820')\"\n",
              "              title=\"Convert this dataframe to an interactive table.\"\n",
              "              style=\"display:none;\">\n",
              "        \n",
              "  <svg xmlns=\"http://www.w3.org/2000/svg\" height=\"24px\"viewBox=\"0 0 24 24\"\n",
              "       width=\"24px\">\n",
              "    <path d=\"M0 0h24v24H0V0z\" fill=\"none\"/>\n",
              "    <path d=\"M18.56 5.44l.94 2.06.94-2.06 2.06-.94-2.06-.94-.94-2.06-.94 2.06-2.06.94zm-11 1L8.5 8.5l.94-2.06 2.06-.94-2.06-.94L8.5 2.5l-.94 2.06-2.06.94zm10 10l.94 2.06.94-2.06 2.06-.94-2.06-.94-.94-2.06-.94 2.06-2.06.94z\"/><path d=\"M17.41 7.96l-1.37-1.37c-.4-.4-.92-.59-1.43-.59-.52 0-1.04.2-1.43.59L10.3 9.45l-7.72 7.72c-.78.78-.78 2.05 0 2.83L4 21.41c.39.39.9.59 1.41.59.51 0 1.02-.2 1.41-.59l7.78-7.78 2.81-2.81c.8-.78.8-2.07 0-2.86zM5.41 20L4 18.59l7.72-7.72 1.47 1.35L5.41 20z\"/>\n",
              "  </svg>\n",
              "      </button>\n",
              "      \n",
              "  <style>\n",
              "    .colab-df-container {\n",
              "      display:flex;\n",
              "      flex-wrap:wrap;\n",
              "      gap: 12px;\n",
              "    }\n",
              "\n",
              "    .colab-df-convert {\n",
              "      background-color: #E8F0FE;\n",
              "      border: none;\n",
              "      border-radius: 50%;\n",
              "      cursor: pointer;\n",
              "      display: none;\n",
              "      fill: #1967D2;\n",
              "      height: 32px;\n",
              "      padding: 0 0 0 0;\n",
              "      width: 32px;\n",
              "    }\n",
              "\n",
              "    .colab-df-convert:hover {\n",
              "      background-color: #E2EBFA;\n",
              "      box-shadow: 0px 1px 2px rgba(60, 64, 67, 0.3), 0px 1px 3px 1px rgba(60, 64, 67, 0.15);\n",
              "      fill: #174EA6;\n",
              "    }\n",
              "\n",
              "    [theme=dark] .colab-df-convert {\n",
              "      background-color: #3B4455;\n",
              "      fill: #D2E3FC;\n",
              "    }\n",
              "\n",
              "    [theme=dark] .colab-df-convert:hover {\n",
              "      background-color: #434B5C;\n",
              "      box-shadow: 0px 1px 3px 1px rgba(0, 0, 0, 0.15);\n",
              "      filter: drop-shadow(0px 1px 2px rgba(0, 0, 0, 0.3));\n",
              "      fill: #FFFFFF;\n",
              "    }\n",
              "  </style>\n",
              "\n",
              "      <script>\n",
              "        const buttonEl =\n",
              "          document.querySelector('#df-98221a73-e280-4306-9cf7-a6bcf120a820 button.colab-df-convert');\n",
              "        buttonEl.style.display =\n",
              "          google.colab.kernel.accessAllowed ? 'block' : 'none';\n",
              "\n",
              "        async function convertToInteractive(key) {\n",
              "          const element = document.querySelector('#df-98221a73-e280-4306-9cf7-a6bcf120a820');\n",
              "          const dataTable =\n",
              "            await google.colab.kernel.invokeFunction('convertToInteractive',\n",
              "                                                     [key], {});\n",
              "          if (!dataTable) return;\n",
              "\n",
              "          const docLinkHtml = 'Like what you see? Visit the ' +\n",
              "            '<a target=\"_blank\" href=https://colab.research.google.com/notebooks/data_table.ipynb>data table notebook</a>'\n",
              "            + ' to learn more about interactive tables.';\n",
              "          element.innerHTML = '';\n",
              "          dataTable['output_type'] = 'display_data';\n",
              "          await google.colab.output.renderOutput(dataTable, element);\n",
              "          const docLink = document.createElement('div');\n",
              "          docLink.innerHTML = docLinkHtml;\n",
              "          element.appendChild(docLink);\n",
              "        }\n",
              "      </script>\n",
              "    </div>\n",
              "  </div>\n",
              "  "
            ]
          },
          "metadata": {},
          "execution_count": 5
        }
      ]
    },
    {
      "cell_type": "code",
      "source": [
        "kraje.info()"
      ],
      "metadata": {
        "colab": {
          "base_uri": "https://localhost:8080/"
        },
        "id": "0FYVnX9VXAeF",
        "outputId": "45dd2e23-a764-4efd-a580-5d02a71d468f"
      },
      "execution_count": null,
      "outputs": [
        {
          "output_type": "stream",
          "name": "stdout",
          "text": [
            "<class 'pandas.core.frame.DataFrame'>\n",
            "RangeIndex: 227 entries, 0 to 226\n",
            "Data columns (total 20 columns):\n",
            " #   Column                              Non-Null Count  Dtype  \n",
            "---  ------                              --------------  -----  \n",
            " 0   Country                             227 non-null    object \n",
            " 1   Region                              227 non-null    object \n",
            " 2   Population                          227 non-null    int64  \n",
            " 3   Area (sq. mi.)                      227 non-null    int64  \n",
            " 4   Pop. Density (per sq. mi.)          227 non-null    object \n",
            " 5   Coastline (coast/area ratio)        227 non-null    object \n",
            " 6   Net migration                       224 non-null    object \n",
            " 7   Infant mortality (per 1000 births)  224 non-null    object \n",
            " 8   GDP ($ per capita)                  226 non-null    float64\n",
            " 9   Literacy (%)                        209 non-null    object \n",
            " 10  Phones (per 1000)                   223 non-null    object \n",
            " 11  Arable (%)                          225 non-null    object \n",
            " 12  Crops (%)                           225 non-null    object \n",
            " 13  Other (%)                           225 non-null    object \n",
            " 14  Climate                             205 non-null    object \n",
            " 15  Birthrate                           224 non-null    object \n",
            " 16  Deathrate                           223 non-null    object \n",
            " 17  Agriculture                         212 non-null    object \n",
            " 18  Industry                            211 non-null    object \n",
            " 19  Service                             212 non-null    object \n",
            "dtypes: float64(1), int64(2), object(17)\n",
            "memory usage: 35.6+ KB\n"
          ]
        }
      ]
    },
    {
      "cell_type": "code",
      "source": [
        "len(kraje) # Ilość wierszy w tabeli"
      ],
      "metadata": {
        "colab": {
          "base_uri": "https://localhost:8080/"
        },
        "id": "olzLmqIOg6KP",
        "outputId": "303490f3-46fb-47cd-e3df-5ebf74caef45"
      },
      "execution_count": null,
      "outputs": [
        {
          "output_type": "execute_result",
          "data": {
            "text/plain": [
              "227"
            ]
          },
          "metadata": {},
          "execution_count": 7
        }
      ]
    },
    {
      "cell_type": "markdown",
      "source": [
        "Widzimy, że dane mają 20 kolumn z różnymi danymi o krajach.\n",
        "Krajów w tabeli mamy 20, ale niektóre kolumny mają wartości null. Sprawdzamy które."
      ],
      "metadata": {
        "id": "kGBg-rLWXR9h"
      }
    },
    {
      "cell_type": "code",
      "source": [
        "kraje.isnull().sum()"
      ],
      "metadata": {
        "colab": {
          "base_uri": "https://localhost:8080/"
        },
        "id": "6S8nfXdZXGY7",
        "outputId": "d41edab8-2ece-46b7-a132-8f9cb236a87e"
      },
      "execution_count": null,
      "outputs": [
        {
          "output_type": "execute_result",
          "data": {
            "text/plain": [
              "Country                                0\n",
              "Region                                 0\n",
              "Population                             0\n",
              "Area (sq. mi.)                         0\n",
              "Pop. Density (per sq. mi.)             0\n",
              "Coastline (coast/area ratio)           0\n",
              "Net migration                          3\n",
              "Infant mortality (per 1000 births)     3\n",
              "GDP ($ per capita)                     1\n",
              "Literacy (%)                          18\n",
              "Phones (per 1000)                      4\n",
              "Arable (%)                             2\n",
              "Crops (%)                              2\n",
              "Other (%)                              2\n",
              "Climate                               22\n",
              "Birthrate                              3\n",
              "Deathrate                              4\n",
              "Agriculture                           15\n",
              "Industry                              16\n",
              "Service                               15\n",
              "dtype: int64"
            ]
          },
          "metadata": {},
          "execution_count": 8
        }
      ]
    },
    {
      "cell_type": "markdown",
      "source": [
        "Dane są bardzo dobrej jakości, tylko jeden kraj nie ma podanego PKB, a jedynie kilkanaście krajów ma wartości null w innych kolumnach.  \n",
        "Mamy natomiast inny problem - większość kolumn mimo iż zawiera dane liczbowe, to są one w formacie object, zatem aby móc traktować je jak liczby, musimy przekształcić je do formatu float lub int. Zajmiemy się tym za chwilę."
      ],
      "metadata": {
        "id": "llg_HrRd6ri-"
      }
    },
    {
      "cell_type": "code",
      "source": [
        "# Sortujemy tabelę po PKB, od najwyższego malejąco i zapisujemy\n",
        "krajeGdp = kraje.sort_values(by=\"GDP ($ per capita)\", ascending=False)"
      ],
      "metadata": {
        "id": "5nGHB215lfvN"
      },
      "execution_count": null,
      "outputs": []
    },
    {
      "cell_type": "code",
      "source": [
        "# Na potrzeby projektu pozbędziemy sie rzędów z null oraz uprościmy tabelę usuwając kilka kolumn.\n",
        "krajeGdp = krajeGdp.dropna()\n",
        "\n",
        "krajeGdp = krajeGdp.drop(['Arable (%)','Crops (%)', 'Other (%)', 'Climate'], axis=1)"
      ],
      "metadata": {
        "id": "9geK4H4Xlgae"
      },
      "execution_count": null,
      "outputs": []
    },
    {
      "cell_type": "code",
      "source": [
        "len(krajeGdp)"
      ],
      "metadata": {
        "colab": {
          "base_uri": "https://localhost:8080/"
        },
        "id": "aBkzWma47Pug",
        "outputId": "0f5266d1-8f83-4f81-9b88-d998e1d137d1"
      },
      "execution_count": null,
      "outputs": [
        {
          "output_type": "execute_result",
          "data": {
            "text/plain": [
              "179"
            ]
          },
          "metadata": {},
          "execution_count": 11
        }
      ]
    },
    {
      "cell_type": "markdown",
      "source": [
        "Po wyrzuceniu wierszy z null zostało nam 179 krajów do dalszej analizy."
      ],
      "metadata": {
        "id": "nS1YpWIo7fGZ"
      }
    },
    {
      "cell_type": "code",
      "source": [
        "#sprawdzamy ostatnie 20 wierszy z tabeli, czyli kraje o najniższym PKB\n",
        "krajeGdp.tail(20)"
      ],
      "metadata": {
        "colab": {
          "base_uri": "https://localhost:8080/",
          "height": 1000
        },
        "id": "zwaJSbnqtgOm",
        "outputId": "2b4a1577-a459-4776-d628-12e5ec4a52eb"
      },
      "execution_count": null,
      "outputs": [
        {
          "output_type": "execute_result",
          "data": {
            "text/plain": [
              "                   Country                               Region  Population  \\\n",
              "107                 Kenya   SUB-SAHARAN AFRICA                     34707817   \n",
              "117               Liberia   SUB-SAHARAN AFRICA                      3042004   \n",
              "199            Tajikistan                  C.W. OF IND. STATES      7320815   \n",
              "128                  Mali   SUB-SAHARAN AFRICA                     11716829   \n",
              "152               Nigeria   SUB-SAHARAN AFRICA                    131859731   \n",
              "124            Madagascar   SUB-SAHARAN AFRICA                     18595469   \n",
              "151                 Niger   SUB-SAHARAN AFRICA                     12525094   \n",
              "225                Zambia   SUB-SAHARAN AFRICA                     11502010   \n",
              "224                 Yemen   NEAR EAST                              21456188   \n",
              "87          Guinea-Bissau   SUB-SAHARAN AFRICA                      1442029   \n",
              "44                Comoros   SUB-SAHARAN AFRICA                       690948   \n",
              "45       Congo, Dem. Rep.   SUB-SAHARAN AFRICA                     62660551   \n",
              "46   Congo, Repub. of the   SUB-SAHARAN AFRICA                      3702314   \n",
              "63                Eritrea   SUB-SAHARAN AFRICA                      4786994   \n",
              "65               Ethiopia   SUB-SAHARAN AFRICA                     74777981   \n",
              "0             Afghanistan         ASIA (EX. NEAR EAST)             31056997   \n",
              "33                Burundi   SUB-SAHARAN AFRICA                      8090068   \n",
              "125                Malawi   SUB-SAHARAN AFRICA                     13013926   \n",
              "183          Sierra Leone   SUB-SAHARAN AFRICA                      6005250   \n",
              "188               Somalia   SUB-SAHARAN AFRICA                      8863338   \n",
              "\n",
              "     Area (sq. mi.) Pop. Density (per sq. mi.) Coastline (coast/area ratio)  \\\n",
              "107          582650                       59,6                         0,09   \n",
              "117          111370                       27,3                         0,52   \n",
              "199          143100                       51,2                         0,00   \n",
              "128         1240000                        9,5                         0,00   \n",
              "152          923768                      142,7                         0,09   \n",
              "124          587040                       31,7                         0,82   \n",
              "151         1267000                        9,9                         0,00   \n",
              "225          752614                       15,3                         0,00   \n",
              "224          527970                       40,6                         0,36   \n",
              "87            36120                       39,9                         0,97   \n",
              "44             2170                      318,4                        15,67   \n",
              "45          2345410                       26,7                         0,00   \n",
              "46           342000                       10,8                         0,05   \n",
              "63           121320                       39,5                         1,84   \n",
              "65          1127127                       66,3                         0,00   \n",
              "0            647500                       48,0                         0,00   \n",
              "33            27830                      290,7                         0,00   \n",
              "125          118480                      109,8                         0,00   \n",
              "183           71740                       83,7                         0,56   \n",
              "188          637657                       13,9                         0,47   \n",
              "\n",
              "    Net migration Infant mortality (per 1000 births)  GDP ($ per capita)  \\\n",
              "107          -0,1                              61,47              1000.0   \n",
              "117             0                             128,87              1000.0   \n",
              "199         -2,86                             110,76              1000.0   \n",
              "128         -0,33                             116,79               900.0   \n",
              "152          0,26                               98,8               900.0   \n",
              "124             0                              76,83               800.0   \n",
              "151         -0,67                             121,69               800.0   \n",
              "225             0                              88,29               800.0   \n",
              "224             0                               61,5               800.0   \n",
              "87          -1,57                             107,17               800.0   \n",
              "44              0                              74,93               700.0   \n",
              "45              0                              94,69               700.0   \n",
              "46          -0,17                              93,86               700.0   \n",
              "63              0                              74,87               700.0   \n",
              "65              0                              95,32               700.0   \n",
              "0           23,06                             163,07               700.0   \n",
              "33          -0,06                              69,29               600.0   \n",
              "125             0                             103,32               600.0   \n",
              "183             0                             143,64               500.0   \n",
              "188          5,37                              116,7               500.0   \n",
              "\n",
              "    Literacy (%) Phones (per 1000) Birthrate Deathrate Agriculture Industry  \\\n",
              "107         85,1               8,1     39,72     14,02       0,163    0,188   \n",
              "117         57,5               2,3     44,77      23,1       0,769    0,054   \n",
              "199         99,4              33,5     32,65      8,25       0,234    0,286   \n",
              "128         46,4               6,4     49,82     16,89        0,45     0,17   \n",
              "152         68,0               9,3     40,43     16,94       0,269    0,487   \n",
              "124         68,9               3,6     41,41     11,11       0,276    0,165   \n",
              "151         17,6               1,9     50,73     20,91        0,39     0,17   \n",
              "225         80,6               8,2        41     19,93        0,22     0,29   \n",
              "224         50,2              37,2     42,89       8,3       0,135    0,472   \n",
              "87          42,4               7,4     37,22     16,53        0,62     0,12   \n",
              "44          56,5              24,5     36,93       8,2         0,4     0,04   \n",
              "45          65,5               0,2     43,69     13,27        0,55     0,11   \n",
              "46          83,8               3,7     42,57     12,93       0,062     0,57   \n",
              "63          58,6               7,9     34,33       9,6       0,102    0,254   \n",
              "65          42,7               8,2     37,98     14,86       0,475    0,099   \n",
              "0           36,0               3,2      46,6     20,34        0,38     0,24   \n",
              "33          51,6               3,4     42,22     13,46       0,463    0,203   \n",
              "125         62,7               7,9     43,13     19,33       0,342    0,158   \n",
              "183         31,4               4,0     45,76     23,03        0,49     0,31   \n",
              "188         37,8              11,3     45,13     16,63        0,65      0,1   \n",
              "\n",
              "    Service  \n",
              "107   0,651  \n",
              "117   0,177  \n",
              "199    0,48  \n",
              "128    0,38  \n",
              "152   0,244  \n",
              "124   0,559  \n",
              "151    0,44  \n",
              "225   0,489  \n",
              "224   0,393  \n",
              "87     0,26  \n",
              "44     0,56  \n",
              "45     0,34  \n",
              "46    0,369  \n",
              "63    0,643  \n",
              "65    0,426  \n",
              "0      0,38  \n",
              "33    0,334  \n",
              "125   0,499  \n",
              "183    0,21  \n",
              "188    0,25  "
            ],
            "text/html": [
              "\n",
              "  <div id=\"df-52d3afa8-0373-460c-8ec8-f3e3579fa9dc\">\n",
              "    <div class=\"colab-df-container\">\n",
              "      <div>\n",
              "<style scoped>\n",
              "    .dataframe tbody tr th:only-of-type {\n",
              "        vertical-align: middle;\n",
              "    }\n",
              "\n",
              "    .dataframe tbody tr th {\n",
              "        vertical-align: top;\n",
              "    }\n",
              "\n",
              "    .dataframe thead th {\n",
              "        text-align: right;\n",
              "    }\n",
              "</style>\n",
              "<table border=\"1\" class=\"dataframe\">\n",
              "  <thead>\n",
              "    <tr style=\"text-align: right;\">\n",
              "      <th></th>\n",
              "      <th>Country</th>\n",
              "      <th>Region</th>\n",
              "      <th>Population</th>\n",
              "      <th>Area (sq. mi.)</th>\n",
              "      <th>Pop. Density (per sq. mi.)</th>\n",
              "      <th>Coastline (coast/area ratio)</th>\n",
              "      <th>Net migration</th>\n",
              "      <th>Infant mortality (per 1000 births)</th>\n",
              "      <th>GDP ($ per capita)</th>\n",
              "      <th>Literacy (%)</th>\n",
              "      <th>Phones (per 1000)</th>\n",
              "      <th>Birthrate</th>\n",
              "      <th>Deathrate</th>\n",
              "      <th>Agriculture</th>\n",
              "      <th>Industry</th>\n",
              "      <th>Service</th>\n",
              "    </tr>\n",
              "  </thead>\n",
              "  <tbody>\n",
              "    <tr>\n",
              "      <th>107</th>\n",
              "      <td>Kenya</td>\n",
              "      <td>SUB-SAHARAN AFRICA</td>\n",
              "      <td>34707817</td>\n",
              "      <td>582650</td>\n",
              "      <td>59,6</td>\n",
              "      <td>0,09</td>\n",
              "      <td>-0,1</td>\n",
              "      <td>61,47</td>\n",
              "      <td>1000.0</td>\n",
              "      <td>85,1</td>\n",
              "      <td>8,1</td>\n",
              "      <td>39,72</td>\n",
              "      <td>14,02</td>\n",
              "      <td>0,163</td>\n",
              "      <td>0,188</td>\n",
              "      <td>0,651</td>\n",
              "    </tr>\n",
              "    <tr>\n",
              "      <th>117</th>\n",
              "      <td>Liberia</td>\n",
              "      <td>SUB-SAHARAN AFRICA</td>\n",
              "      <td>3042004</td>\n",
              "      <td>111370</td>\n",
              "      <td>27,3</td>\n",
              "      <td>0,52</td>\n",
              "      <td>0</td>\n",
              "      <td>128,87</td>\n",
              "      <td>1000.0</td>\n",
              "      <td>57,5</td>\n",
              "      <td>2,3</td>\n",
              "      <td>44,77</td>\n",
              "      <td>23,1</td>\n",
              "      <td>0,769</td>\n",
              "      <td>0,054</td>\n",
              "      <td>0,177</td>\n",
              "    </tr>\n",
              "    <tr>\n",
              "      <th>199</th>\n",
              "      <td>Tajikistan</td>\n",
              "      <td>C.W. OF IND. STATES</td>\n",
              "      <td>7320815</td>\n",
              "      <td>143100</td>\n",
              "      <td>51,2</td>\n",
              "      <td>0,00</td>\n",
              "      <td>-2,86</td>\n",
              "      <td>110,76</td>\n",
              "      <td>1000.0</td>\n",
              "      <td>99,4</td>\n",
              "      <td>33,5</td>\n",
              "      <td>32,65</td>\n",
              "      <td>8,25</td>\n",
              "      <td>0,234</td>\n",
              "      <td>0,286</td>\n",
              "      <td>0,48</td>\n",
              "    </tr>\n",
              "    <tr>\n",
              "      <th>128</th>\n",
              "      <td>Mali</td>\n",
              "      <td>SUB-SAHARAN AFRICA</td>\n",
              "      <td>11716829</td>\n",
              "      <td>1240000</td>\n",
              "      <td>9,5</td>\n",
              "      <td>0,00</td>\n",
              "      <td>-0,33</td>\n",
              "      <td>116,79</td>\n",
              "      <td>900.0</td>\n",
              "      <td>46,4</td>\n",
              "      <td>6,4</td>\n",
              "      <td>49,82</td>\n",
              "      <td>16,89</td>\n",
              "      <td>0,45</td>\n",
              "      <td>0,17</td>\n",
              "      <td>0,38</td>\n",
              "    </tr>\n",
              "    <tr>\n",
              "      <th>152</th>\n",
              "      <td>Nigeria</td>\n",
              "      <td>SUB-SAHARAN AFRICA</td>\n",
              "      <td>131859731</td>\n",
              "      <td>923768</td>\n",
              "      <td>142,7</td>\n",
              "      <td>0,09</td>\n",
              "      <td>0,26</td>\n",
              "      <td>98,8</td>\n",
              "      <td>900.0</td>\n",
              "      <td>68,0</td>\n",
              "      <td>9,3</td>\n",
              "      <td>40,43</td>\n",
              "      <td>16,94</td>\n",
              "      <td>0,269</td>\n",
              "      <td>0,487</td>\n",
              "      <td>0,244</td>\n",
              "    </tr>\n",
              "    <tr>\n",
              "      <th>124</th>\n",
              "      <td>Madagascar</td>\n",
              "      <td>SUB-SAHARAN AFRICA</td>\n",
              "      <td>18595469</td>\n",
              "      <td>587040</td>\n",
              "      <td>31,7</td>\n",
              "      <td>0,82</td>\n",
              "      <td>0</td>\n",
              "      <td>76,83</td>\n",
              "      <td>800.0</td>\n",
              "      <td>68,9</td>\n",
              "      <td>3,6</td>\n",
              "      <td>41,41</td>\n",
              "      <td>11,11</td>\n",
              "      <td>0,276</td>\n",
              "      <td>0,165</td>\n",
              "      <td>0,559</td>\n",
              "    </tr>\n",
              "    <tr>\n",
              "      <th>151</th>\n",
              "      <td>Niger</td>\n",
              "      <td>SUB-SAHARAN AFRICA</td>\n",
              "      <td>12525094</td>\n",
              "      <td>1267000</td>\n",
              "      <td>9,9</td>\n",
              "      <td>0,00</td>\n",
              "      <td>-0,67</td>\n",
              "      <td>121,69</td>\n",
              "      <td>800.0</td>\n",
              "      <td>17,6</td>\n",
              "      <td>1,9</td>\n",
              "      <td>50,73</td>\n",
              "      <td>20,91</td>\n",
              "      <td>0,39</td>\n",
              "      <td>0,17</td>\n",
              "      <td>0,44</td>\n",
              "    </tr>\n",
              "    <tr>\n",
              "      <th>225</th>\n",
              "      <td>Zambia</td>\n",
              "      <td>SUB-SAHARAN AFRICA</td>\n",
              "      <td>11502010</td>\n",
              "      <td>752614</td>\n",
              "      <td>15,3</td>\n",
              "      <td>0,00</td>\n",
              "      <td>0</td>\n",
              "      <td>88,29</td>\n",
              "      <td>800.0</td>\n",
              "      <td>80,6</td>\n",
              "      <td>8,2</td>\n",
              "      <td>41</td>\n",
              "      <td>19,93</td>\n",
              "      <td>0,22</td>\n",
              "      <td>0,29</td>\n",
              "      <td>0,489</td>\n",
              "    </tr>\n",
              "    <tr>\n",
              "      <th>224</th>\n",
              "      <td>Yemen</td>\n",
              "      <td>NEAR EAST</td>\n",
              "      <td>21456188</td>\n",
              "      <td>527970</td>\n",
              "      <td>40,6</td>\n",
              "      <td>0,36</td>\n",
              "      <td>0</td>\n",
              "      <td>61,5</td>\n",
              "      <td>800.0</td>\n",
              "      <td>50,2</td>\n",
              "      <td>37,2</td>\n",
              "      <td>42,89</td>\n",
              "      <td>8,3</td>\n",
              "      <td>0,135</td>\n",
              "      <td>0,472</td>\n",
              "      <td>0,393</td>\n",
              "    </tr>\n",
              "    <tr>\n",
              "      <th>87</th>\n",
              "      <td>Guinea-Bissau</td>\n",
              "      <td>SUB-SAHARAN AFRICA</td>\n",
              "      <td>1442029</td>\n",
              "      <td>36120</td>\n",
              "      <td>39,9</td>\n",
              "      <td>0,97</td>\n",
              "      <td>-1,57</td>\n",
              "      <td>107,17</td>\n",
              "      <td>800.0</td>\n",
              "      <td>42,4</td>\n",
              "      <td>7,4</td>\n",
              "      <td>37,22</td>\n",
              "      <td>16,53</td>\n",
              "      <td>0,62</td>\n",
              "      <td>0,12</td>\n",
              "      <td>0,26</td>\n",
              "    </tr>\n",
              "    <tr>\n",
              "      <th>44</th>\n",
              "      <td>Comoros</td>\n",
              "      <td>SUB-SAHARAN AFRICA</td>\n",
              "      <td>690948</td>\n",
              "      <td>2170</td>\n",
              "      <td>318,4</td>\n",
              "      <td>15,67</td>\n",
              "      <td>0</td>\n",
              "      <td>74,93</td>\n",
              "      <td>700.0</td>\n",
              "      <td>56,5</td>\n",
              "      <td>24,5</td>\n",
              "      <td>36,93</td>\n",
              "      <td>8,2</td>\n",
              "      <td>0,4</td>\n",
              "      <td>0,04</td>\n",
              "      <td>0,56</td>\n",
              "    </tr>\n",
              "    <tr>\n",
              "      <th>45</th>\n",
              "      <td>Congo, Dem. Rep.</td>\n",
              "      <td>SUB-SAHARAN AFRICA</td>\n",
              "      <td>62660551</td>\n",
              "      <td>2345410</td>\n",
              "      <td>26,7</td>\n",
              "      <td>0,00</td>\n",
              "      <td>0</td>\n",
              "      <td>94,69</td>\n",
              "      <td>700.0</td>\n",
              "      <td>65,5</td>\n",
              "      <td>0,2</td>\n",
              "      <td>43,69</td>\n",
              "      <td>13,27</td>\n",
              "      <td>0,55</td>\n",
              "      <td>0,11</td>\n",
              "      <td>0,34</td>\n",
              "    </tr>\n",
              "    <tr>\n",
              "      <th>46</th>\n",
              "      <td>Congo, Repub. of the</td>\n",
              "      <td>SUB-SAHARAN AFRICA</td>\n",
              "      <td>3702314</td>\n",
              "      <td>342000</td>\n",
              "      <td>10,8</td>\n",
              "      <td>0,05</td>\n",
              "      <td>-0,17</td>\n",
              "      <td>93,86</td>\n",
              "      <td>700.0</td>\n",
              "      <td>83,8</td>\n",
              "      <td>3,7</td>\n",
              "      <td>42,57</td>\n",
              "      <td>12,93</td>\n",
              "      <td>0,062</td>\n",
              "      <td>0,57</td>\n",
              "      <td>0,369</td>\n",
              "    </tr>\n",
              "    <tr>\n",
              "      <th>63</th>\n",
              "      <td>Eritrea</td>\n",
              "      <td>SUB-SAHARAN AFRICA</td>\n",
              "      <td>4786994</td>\n",
              "      <td>121320</td>\n",
              "      <td>39,5</td>\n",
              "      <td>1,84</td>\n",
              "      <td>0</td>\n",
              "      <td>74,87</td>\n",
              "      <td>700.0</td>\n",
              "      <td>58,6</td>\n",
              "      <td>7,9</td>\n",
              "      <td>34,33</td>\n",
              "      <td>9,6</td>\n",
              "      <td>0,102</td>\n",
              "      <td>0,254</td>\n",
              "      <td>0,643</td>\n",
              "    </tr>\n",
              "    <tr>\n",
              "      <th>65</th>\n",
              "      <td>Ethiopia</td>\n",
              "      <td>SUB-SAHARAN AFRICA</td>\n",
              "      <td>74777981</td>\n",
              "      <td>1127127</td>\n",
              "      <td>66,3</td>\n",
              "      <td>0,00</td>\n",
              "      <td>0</td>\n",
              "      <td>95,32</td>\n",
              "      <td>700.0</td>\n",
              "      <td>42,7</td>\n",
              "      <td>8,2</td>\n",
              "      <td>37,98</td>\n",
              "      <td>14,86</td>\n",
              "      <td>0,475</td>\n",
              "      <td>0,099</td>\n",
              "      <td>0,426</td>\n",
              "    </tr>\n",
              "    <tr>\n",
              "      <th>0</th>\n",
              "      <td>Afghanistan</td>\n",
              "      <td>ASIA (EX. NEAR EAST)</td>\n",
              "      <td>31056997</td>\n",
              "      <td>647500</td>\n",
              "      <td>48,0</td>\n",
              "      <td>0,00</td>\n",
              "      <td>23,06</td>\n",
              "      <td>163,07</td>\n",
              "      <td>700.0</td>\n",
              "      <td>36,0</td>\n",
              "      <td>3,2</td>\n",
              "      <td>46,6</td>\n",
              "      <td>20,34</td>\n",
              "      <td>0,38</td>\n",
              "      <td>0,24</td>\n",
              "      <td>0,38</td>\n",
              "    </tr>\n",
              "    <tr>\n",
              "      <th>33</th>\n",
              "      <td>Burundi</td>\n",
              "      <td>SUB-SAHARAN AFRICA</td>\n",
              "      <td>8090068</td>\n",
              "      <td>27830</td>\n",
              "      <td>290,7</td>\n",
              "      <td>0,00</td>\n",
              "      <td>-0,06</td>\n",
              "      <td>69,29</td>\n",
              "      <td>600.0</td>\n",
              "      <td>51,6</td>\n",
              "      <td>3,4</td>\n",
              "      <td>42,22</td>\n",
              "      <td>13,46</td>\n",
              "      <td>0,463</td>\n",
              "      <td>0,203</td>\n",
              "      <td>0,334</td>\n",
              "    </tr>\n",
              "    <tr>\n",
              "      <th>125</th>\n",
              "      <td>Malawi</td>\n",
              "      <td>SUB-SAHARAN AFRICA</td>\n",
              "      <td>13013926</td>\n",
              "      <td>118480</td>\n",
              "      <td>109,8</td>\n",
              "      <td>0,00</td>\n",
              "      <td>0</td>\n",
              "      <td>103,32</td>\n",
              "      <td>600.0</td>\n",
              "      <td>62,7</td>\n",
              "      <td>7,9</td>\n",
              "      <td>43,13</td>\n",
              "      <td>19,33</td>\n",
              "      <td>0,342</td>\n",
              "      <td>0,158</td>\n",
              "      <td>0,499</td>\n",
              "    </tr>\n",
              "    <tr>\n",
              "      <th>183</th>\n",
              "      <td>Sierra Leone</td>\n",
              "      <td>SUB-SAHARAN AFRICA</td>\n",
              "      <td>6005250</td>\n",
              "      <td>71740</td>\n",
              "      <td>83,7</td>\n",
              "      <td>0,56</td>\n",
              "      <td>0</td>\n",
              "      <td>143,64</td>\n",
              "      <td>500.0</td>\n",
              "      <td>31,4</td>\n",
              "      <td>4,0</td>\n",
              "      <td>45,76</td>\n",
              "      <td>23,03</td>\n",
              "      <td>0,49</td>\n",
              "      <td>0,31</td>\n",
              "      <td>0,21</td>\n",
              "    </tr>\n",
              "    <tr>\n",
              "      <th>188</th>\n",
              "      <td>Somalia</td>\n",
              "      <td>SUB-SAHARAN AFRICA</td>\n",
              "      <td>8863338</td>\n",
              "      <td>637657</td>\n",
              "      <td>13,9</td>\n",
              "      <td>0,47</td>\n",
              "      <td>5,37</td>\n",
              "      <td>116,7</td>\n",
              "      <td>500.0</td>\n",
              "      <td>37,8</td>\n",
              "      <td>11,3</td>\n",
              "      <td>45,13</td>\n",
              "      <td>16,63</td>\n",
              "      <td>0,65</td>\n",
              "      <td>0,1</td>\n",
              "      <td>0,25</td>\n",
              "    </tr>\n",
              "  </tbody>\n",
              "</table>\n",
              "</div>\n",
              "      <button class=\"colab-df-convert\" onclick=\"convertToInteractive('df-52d3afa8-0373-460c-8ec8-f3e3579fa9dc')\"\n",
              "              title=\"Convert this dataframe to an interactive table.\"\n",
              "              style=\"display:none;\">\n",
              "        \n",
              "  <svg xmlns=\"http://www.w3.org/2000/svg\" height=\"24px\"viewBox=\"0 0 24 24\"\n",
              "       width=\"24px\">\n",
              "    <path d=\"M0 0h24v24H0V0z\" fill=\"none\"/>\n",
              "    <path d=\"M18.56 5.44l.94 2.06.94-2.06 2.06-.94-2.06-.94-.94-2.06-.94 2.06-2.06.94zm-11 1L8.5 8.5l.94-2.06 2.06-.94-2.06-.94L8.5 2.5l-.94 2.06-2.06.94zm10 10l.94 2.06.94-2.06 2.06-.94-2.06-.94-.94-2.06-.94 2.06-2.06.94z\"/><path d=\"M17.41 7.96l-1.37-1.37c-.4-.4-.92-.59-1.43-.59-.52 0-1.04.2-1.43.59L10.3 9.45l-7.72 7.72c-.78.78-.78 2.05 0 2.83L4 21.41c.39.39.9.59 1.41.59.51 0 1.02-.2 1.41-.59l7.78-7.78 2.81-2.81c.8-.78.8-2.07 0-2.86zM5.41 20L4 18.59l7.72-7.72 1.47 1.35L5.41 20z\"/>\n",
              "  </svg>\n",
              "      </button>\n",
              "      \n",
              "  <style>\n",
              "    .colab-df-container {\n",
              "      display:flex;\n",
              "      flex-wrap:wrap;\n",
              "      gap: 12px;\n",
              "    }\n",
              "\n",
              "    .colab-df-convert {\n",
              "      background-color: #E8F0FE;\n",
              "      border: none;\n",
              "      border-radius: 50%;\n",
              "      cursor: pointer;\n",
              "      display: none;\n",
              "      fill: #1967D2;\n",
              "      height: 32px;\n",
              "      padding: 0 0 0 0;\n",
              "      width: 32px;\n",
              "    }\n",
              "\n",
              "    .colab-df-convert:hover {\n",
              "      background-color: #E2EBFA;\n",
              "      box-shadow: 0px 1px 2px rgba(60, 64, 67, 0.3), 0px 1px 3px 1px rgba(60, 64, 67, 0.15);\n",
              "      fill: #174EA6;\n",
              "    }\n",
              "\n",
              "    [theme=dark] .colab-df-convert {\n",
              "      background-color: #3B4455;\n",
              "      fill: #D2E3FC;\n",
              "    }\n",
              "\n",
              "    [theme=dark] .colab-df-convert:hover {\n",
              "      background-color: #434B5C;\n",
              "      box-shadow: 0px 1px 3px 1px rgba(0, 0, 0, 0.15);\n",
              "      filter: drop-shadow(0px 1px 2px rgba(0, 0, 0, 0.3));\n",
              "      fill: #FFFFFF;\n",
              "    }\n",
              "  </style>\n",
              "\n",
              "      <script>\n",
              "        const buttonEl =\n",
              "          document.querySelector('#df-52d3afa8-0373-460c-8ec8-f3e3579fa9dc button.colab-df-convert');\n",
              "        buttonEl.style.display =\n",
              "          google.colab.kernel.accessAllowed ? 'block' : 'none';\n",
              "\n",
              "        async function convertToInteractive(key) {\n",
              "          const element = document.querySelector('#df-52d3afa8-0373-460c-8ec8-f3e3579fa9dc');\n",
              "          const dataTable =\n",
              "            await google.colab.kernel.invokeFunction('convertToInteractive',\n",
              "                                                     [key], {});\n",
              "          if (!dataTable) return;\n",
              "\n",
              "          const docLinkHtml = 'Like what you see? Visit the ' +\n",
              "            '<a target=\"_blank\" href=https://colab.research.google.com/notebooks/data_table.ipynb>data table notebook</a>'\n",
              "            + ' to learn more about interactive tables.';\n",
              "          element.innerHTML = '';\n",
              "          dataTable['output_type'] = 'display_data';\n",
              "          await google.colab.output.renderOutput(dataTable, element);\n",
              "          const docLink = document.createElement('div');\n",
              "          docLink.innerHTML = docLinkHtml;\n",
              "          element.appendChild(docLink);\n",
              "        }\n",
              "      </script>\n",
              "    </div>\n",
              "  </div>\n",
              "  "
            ]
          },
          "metadata": {},
          "execution_count": 12
        }
      ]
    },
    {
      "cell_type": "code",
      "source": [
        "# Sprawdzamy nazwy kolumn\n",
        "kraje.columns"
      ],
      "metadata": {
        "colab": {
          "base_uri": "https://localhost:8080/"
        },
        "id": "r-MmwtRy1dUo",
        "outputId": "f5619330-c251-4560-ec58-fa1189f36581"
      },
      "execution_count": null,
      "outputs": [
        {
          "output_type": "execute_result",
          "data": {
            "text/plain": [
              "Index(['Country', 'Region', 'Population', 'Area (sq. mi.)',\n",
              "       'Pop. Density (per sq. mi.)', 'Coastline (coast/area ratio)',\n",
              "       'Net migration', 'Infant mortality (per 1000 births)',\n",
              "       'GDP ($ per capita)', 'Literacy (%)', 'Phones (per 1000)', 'Arable (%)',\n",
              "       'Crops (%)', 'Other (%)', 'Climate', 'Birthrate', 'Deathrate',\n",
              "       'Agriculture', 'Industry', 'Service'],\n",
              "      dtype='object')"
            ]
          },
          "metadata": {},
          "execution_count": 13
        }
      ]
    },
    {
      "cell_type": "code",
      "source": [
        "# Przekształcamy typ objektów w kolumnach, które będą nam później potrzebne.\n",
        "# Zamieniamy \",\" na \".\" oraz object na float\n",
        "\n",
        "krajeGdp['Phones (per 1000)'] = krajeGdp['Phones (per 1000)'].str.replace(',', '.').astype(float)\n",
        "krajeGdp['Literacy (%)'] = krajeGdp['Literacy (%)'].str.replace(',', '.').astype(float)\n",
        "krajeGdp['Pop. Density (per sq. mi.)'] = krajeGdp['Pop. Density (per sq. mi.)'].str.replace(',', '.').astype(float)\n",
        "\n",
        "krajeGdp['Coastline (coast/area ratio)'] = krajeGdp['Coastline (coast/area ratio)'].str.replace(',', '.').astype(float)\n",
        "krajeGdp['Net migration'] = krajeGdp['Net migration'].str.replace(',', '.').astype(float)\n",
        "krajeGdp['Infant mortality (per 1000 births)'] = krajeGdp['Infant mortality (per 1000 births)'].str.replace(',', '.').astype(float)\n",
        "\n",
        "krajeGdp['Birthrate'] = krajeGdp['Birthrate'].str.replace(',', '.').astype(float)\n",
        "krajeGdp['Deathrate'] = krajeGdp['Deathrate'].str.replace(',', '.').astype(float)\n",
        "\n",
        "krajeGdp['Agriculture'] = krajeGdp['Agriculture'].str.replace(',', '.').astype(float)\n",
        "krajeGdp['Industry'] = krajeGdp['Industry'].str.replace(',', '.').astype(float)\n",
        "krajeGdp['Service'] = krajeGdp['Service'].str.replace(',', '.').astype(float)\n"
      ],
      "metadata": {
        "id": "2QKk0cvs_vX6"
      },
      "execution_count": null,
      "outputs": []
    },
    {
      "cell_type": "code",
      "source": [
        "# Sprawdzamy jak wyglądają przykładowe dane po przekształceniu\n",
        "krajeGdp['Literacy (%)']"
      ],
      "metadata": {
        "colab": {
          "base_uri": "https://localhost:8080/"
        },
        "id": "5MY3EpDPA499",
        "outputId": "c7a37959-1232-473b-ab97-7c0420e85bce"
      },
      "execution_count": null,
      "outputs": [
        {
          "output_type": "execute_result",
          "data": {
            "text/plain": [
              "154    100.0\n",
              "214     97.0\n",
              "22      98.0\n",
              "38      98.0\n",
              "196     99.0\n",
              "       ...  \n",
              "0       36.0\n",
              "33      51.6\n",
              "125     62.7\n",
              "183     31.4\n",
              "188     37.8\n",
              "Name: Literacy (%), Length: 179, dtype: float64"
            ]
          },
          "metadata": {},
          "execution_count": 15
        }
      ]
    },
    {
      "cell_type": "code",
      "source": [
        "krajeGdp.dtypes"
      ],
      "metadata": {
        "colab": {
          "base_uri": "https://localhost:8080/"
        },
        "id": "37piHcwcdyaE",
        "outputId": "8d88fa12-9255-42de-e930-773124f2a9aa"
      },
      "execution_count": null,
      "outputs": [
        {
          "output_type": "execute_result",
          "data": {
            "text/plain": [
              "Country                                object\n",
              "Region                                 object\n",
              "Population                              int64\n",
              "Area (sq. mi.)                          int64\n",
              "Pop. Density (per sq. mi.)            float64\n",
              "Coastline (coast/area ratio)          float64\n",
              "Net migration                         float64\n",
              "Infant mortality (per 1000 births)    float64\n",
              "GDP ($ per capita)                    float64\n",
              "Literacy (%)                          float64\n",
              "Phones (per 1000)                     float64\n",
              "Birthrate                             float64\n",
              "Deathrate                             float64\n",
              "Agriculture                           float64\n",
              "Industry                              float64\n",
              "Service                               float64\n",
              "dtype: object"
            ]
          },
          "metadata": {},
          "execution_count": 16
        }
      ]
    },
    {
      "cell_type": "markdown",
      "source": [
        "Uzyskaliśmy dane na których możemy już pracować, gdzie wszystkie inetersujce nas kolumny są w formacie liczbowym."
      ],
      "metadata": {
        "id": "xIFAV2abd_oT"
      }
    },
    {
      "cell_type": "markdown",
      "source": [
        "# 3. Wykresy i analiza statystyczna"
      ],
      "metadata": {
        "id": "bs5-vHXWtVvZ"
      }
    },
    {
      "cell_type": "code",
      "source": [
        "# Sprawdzamy dystrybucję PKB na tle wszystkich wyników, grupujemy po 2000$.\n",
        "plt.figure(figsize=(10,6))\n",
        "\n",
        "dystrybucja = sns.histplot(krajeGdp['GDP ($ per capita)'], binwidth=2000, color='orange')\n",
        "dystrybucja.set(xlabel='Wysokość PKB', ylabel='Ilość państw', title=\"Ilość państw o danym PKB\")\n"
      ],
      "metadata": {
        "colab": {
          "base_uri": "https://localhost:8080/",
          "height": 452
        },
        "id": "0Nf-hFQj3Uho",
        "outputId": "8abba8ed-dabd-4767-e40f-8a7ca4a247ed"
      },
      "execution_count": null,
      "outputs": [
        {
          "output_type": "execute_result",
          "data": {
            "text/plain": [
              "[Text(0, 0.5, 'Ilość państw'),\n",
              " Text(0.5, 0, 'Wysokość PKB'),\n",
              " Text(0.5, 1.0, 'Ilość państw o danym PKB')]"
            ]
          },
          "metadata": {},
          "execution_count": 17
        },
        {
          "output_type": "display_data",
          "data": {
            "text/plain": [
              "<Figure size 720x432 with 1 Axes>"
            ],
            "image/png": "[encoded data removed]"
          },
          "metadata": {
            "needs_background": "light"
          }
        }
      ]
    },
    {
      "cell_type": "markdown",
      "source": [
        "Wykres pokazuje, że kraje o niskim PKB stanowią zdecydowaną większość. Dlatego w dalszej części podzielimy kraje na dwie grupy aby lepiej pokazać różnice w warościach porównywanych pól."
      ],
      "metadata": {
        "id": "2uOeZv5BDlSL"
      }
    },
    {
      "cell_type": "markdown",
      "source": [
        "### Macierz korelacji między kolumnami"
      ],
      "metadata": {
        "id": "-O5DETadYiXV"
      }
    },
    {
      "cell_type": "code",
      "source": [
        "# Sprawdzamy zależności między kolumnami\n",
        "korelacje = krajeGdp.corr()\n",
        "\n",
        "plt.figure(figsize=(14,14))\n",
        "sns.heatmap(korelacje, annot=True, cmap=\"coolwarm\")"
      ],
      "metadata": {
        "colab": {
          "base_uri": "https://localhost:8080/",
          "height": 983
        },
        "id": "g1xJ9vTVYaL5",
        "outputId": "ee14d7c6-e3d1-4359-b572-2766d74b71ff"
      },
      "execution_count": null,
      "outputs": [
        {
          "output_type": "execute_result",
          "data": {
            "text/plain": [
              "<matplotlib.axes._subplots.AxesSubplot at 0x7f3fd430cf40>"
            ]
          },
          "metadata": {},
          "execution_count": 18
        },
        {
          "output_type": "display_data",
          "data": {
            "text/plain": [
              "<Figure size 1008x1008 with 2 Axes>"
            ],
            "image/png": "[encoded data removed]"
          },
          "metadata": {
            "needs_background": "light"
          }
        }
      ]
    },
    {
      "cell_type": "markdown",
      "source": [
        "Interesuje nas to jakie kolumny wpływają na wartość PKB (GDP per capita).  \n",
        "Najsilniejsze korelacje występują między PKB a:  \n",
        "- Migracją ludności  \n",
        "- Umiejętnością czytania i pisania  \n",
        "- Ilością telefonów na 1000 mieszkańców  \n",
        "- Stopą urodzeń oraz śmiertelnością noworodków  \n",
        "- Rolnictwem   \n",
        "- Sektorem usług\n",
        "\n",
        "Wykorzystamy te właśnie kolumny do stworzenia modelu uczenia maszynowego.\n",
        "Przyjrzymy się też bliżej niektórym wartościom i zależnośćiom."
      ],
      "metadata": {
        "id": "hP3CApwxZIBV"
      }
    },
    {
      "cell_type": "markdown",
      "source": [
        "### Umiejętność czytania i pisania a PKB"
      ],
      "metadata": {
        "id": "G6g2qZXt3Ql_"
      }
    },
    {
      "cell_type": "code",
      "source": [
        "x = krajeGdp[\"GDP ($ per capita)\"]\n",
        "y = krajeGdp[\"Literacy (%)\"]\n",
        "\n",
        "plt.figure(figsize=(8,6))\n",
        "\n",
        "plt.hist(y, bins=25, color=\"green\")\n",
        "plt.title(\"Procent znajmości pisania i czytania - wszystkie kraje\", fontsize=18)\n",
        "plt.xlabel(\"Procent społeczeństwa %\", fontsize=14)\n",
        "plt.ylabel(\"Ilość państw\", fontsize=14)"
      ],
      "metadata": {
        "colab": {
          "base_uri": "https://localhost:8080/",
          "height": 428
        },
        "id": "D8aGho6NREFF",
        "outputId": "0f3d72c0-f2a6-4126-f7e7-2badbaeba35f"
      },
      "execution_count": null,
      "outputs": [
        {
          "output_type": "execute_result",
          "data": {
            "text/plain": [
              "Text(0, 0.5, 'Ilość państw')"
            ]
          },
          "metadata": {},
          "execution_count": 19
        },
        {
          "output_type": "display_data",
          "data": {
            "text/plain": [
              "<Figure size 576x432 with 1 Axes>"
            ],
            "image/png": "[encoded data removed]"
          },
          "metadata": {
            "needs_background": "light"
          }
        }
      ]
    },
    {
      "cell_type": "markdown",
      "source": [
        "W zdecydowanej większości państw procent piśmiennictwa wynosi 80% lub więcej.  \n",
        "Sprawdźmy jeszcze jak ma się to do PKB."
      ],
      "metadata": {
        "id": "dkJbYP2CXouR"
      }
    },
    {
      "cell_type": "code",
      "source": [
        "# Sprawdzamy jak rozkłada się procent umiejętności czytania i pisania wedle PKB\n",
        "plt.figure(figsize=(8,6))\n",
        "plt.scatter(x, y, c=\"green\", s=40)\n",
        "plt.title(\"PKB a znajmość pisania i czytania - wszystkie kraje\", fontsize=18)\n",
        "plt.xlabel(\"PKB w $ na osobę\", fontsize=14)\n",
        "plt.ylabel(\"Procent znajomości czytania i pisania\", fontsize=14)"
      ],
      "metadata": {
        "colab": {
          "base_uri": "https://localhost:8080/",
          "height": 428
        },
        "id": "DiIEv4M3UE9W",
        "outputId": "1cb3b0d8-05bc-4aa2-bf96-d5e413feb16a"
      },
      "execution_count": null,
      "outputs": [
        {
          "output_type": "execute_result",
          "data": {
            "text/plain": [
              "Text(0, 0.5, 'Procent znajomości czytania i pisania')"
            ]
          },
          "metadata": {},
          "execution_count": 20
        },
        {
          "output_type": "display_data",
          "data": {
            "text/plain": [
              "<Figure size 576x432 with 1 Axes>"
            ],
            "image/png": "[encoded data removed]"
          },
          "metadata": {
            "needs_background": "light"
          }
        }
      ]
    },
    {
      "cell_type": "code",
      "source": [],
      "metadata": {
        "id": "OoVFGPaacfZf"
      },
      "execution_count": null,
      "outputs": []
    },
    {
      "cell_type": "markdown",
      "source": [
        "Widzimy wyraźnie, że największy analfabetyzm panuje w najuboższych krajach.  \n",
        "Wraz ze wzrostem PKB kraju rośnie również znajomość piśmiennictwa."
      ],
      "metadata": {
        "id": "GPN0kR55McOX"
      }
    },
    {
      "cell_type": "markdown",
      "source": [
        "### Ilość telefonów na 1000 os.\n",
        "\n"
      ],
      "metadata": {
        "id": "xqrm7aGe3ejV"
      }
    },
    {
      "cell_type": "markdown",
      "source": [
        "**Dzielimy kraje na dwie grupy, aby lepiej pokazać różnice:**  \n",
        "**PKB do 6000\\$ oraz powyżej 6000\\$**"
      ],
      "metadata": {
        "id": "e6Cc9xA1CeBz"
      }
    },
    {
      "cell_type": "code",
      "source": [
        "# Przyjmujemy 6000$ jako wartość graniczną dwóch grup\n",
        "granica = 6000 \n",
        "krajeLow = krajeGdp[krajeGdp['GDP ($ per capita)'] <= granica]\n",
        "krajeHigh = krajeGdp[krajeGdp['GDP ($ per capita)'] > granica]"
      ],
      "metadata": {
        "id": "xU473hz44dAe"
      },
      "execution_count": null,
      "outputs": []
    },
    {
      "cell_type": "code",
      "source": [
        "# Sprawdzamy jak wygląda ilość telefonów komórkowych w stosunku do PKB\n",
        "# Najpierw sprawdzamy kraje o PKB wyższym niż 6000$\n",
        "\n",
        "x = krajeLow[\"GDP ($ per capita)\"]\n",
        "y = krajeLow[\"Phones (per 1000)\"]\n",
        "\n",
        "plt.figure(figsize=(8,6))\n",
        "\n",
        "plt.scatter(x, y, s=100, c=\"red\")\n",
        "plt.title(\"Stosunek PKB do ilości telefonów - biedniejsze kraje (1/2)\", fontsize=18)\n",
        "plt.xlabel(\"PKB w $ na osobę\", fontsize=14)\n",
        "plt.ylabel(\"Ilość telefonów na 1000 os.\", fontsize=14)\n"
      ],
      "metadata": {
        "colab": {
          "base_uri": "https://localhost:8080/",
          "height": 428
        },
        "id": "r7bWS_56xzmS",
        "outputId": "42159bf8-d817-4ba3-efc6-9ff2b8698a30"
      },
      "execution_count": null,
      "outputs": [
        {
          "output_type": "execute_result",
          "data": {
            "text/plain": [
              "Text(0, 0.5, 'Ilość telefonów na 1000 os.')"
            ]
          },
          "metadata": {},
          "execution_count": 22
        },
        {
          "output_type": "display_data",
          "data": {
            "text/plain": [
              "<Figure size 576x432 with 1 Axes>"
            ],
            "image/png": "[encoded data removed]"
          },
          "metadata": {
            "needs_background": "light"
          }
        }
      ]
    },
    {
      "cell_type": "code",
      "source": [
        "# Teraz sprawdzamy bogatsze kraje o PKB powyżej niż 6000$\n",
        "\n",
        "x = krajeHigh[\"GDP ($ per capita)\"]\n",
        "y = krajeHigh[\"Phones (per 1000)\"]\n",
        "\n",
        "plt.figure(figsize=(8,6))\n",
        "\n",
        "plt.scatter(x, y, s=100, c=\"red\")\n",
        "plt.title(\"Stosunek PKB do ilości telefonów - bogatsze kraje (2/2)\", fontsize=18)\n",
        "plt.xlabel(\"PKB w $ na osobę\", fontsize=14)\n",
        "plt.ylabel(\"Ilość telefonów na 1000 os.\", fontsize=14)"
      ],
      "metadata": {
        "colab": {
          "base_uri": "https://localhost:8080/",
          "height": 428
        },
        "id": "LK7k7agbxqGy",
        "outputId": "59008686-20df-47a8-f3f2-f982465fc0dc"
      },
      "execution_count": null,
      "outputs": [
        {
          "output_type": "execute_result",
          "data": {
            "text/plain": [
              "Text(0, 0.5, 'Ilość telefonów na 1000 os.')"
            ]
          },
          "metadata": {},
          "execution_count": 23
        },
        {
          "output_type": "display_data",
          "data": {
            "text/plain": [
              "<Figure size 576x432 with 1 Axes>"
            ],
            "image/png": "[encoded data removed]"
          },
          "metadata": {
            "needs_background": "light"
          }
        }
      ]
    },
    {
      "cell_type": "markdown",
      "source": [
        "Możemy zauważyć, że w najbiedniejszych krajach telefonów nie ma prawie wcale albo jest ich bardzo mało. W miarę wzrostu PKB, telefonów jest coraz więcej.\n"
      ],
      "metadata": {
        "id": "kBXvXy57LV5B"
      }
    },
    {
      "cell_type": "markdown",
      "source": [
        "### Migracja ludności"
      ],
      "metadata": {
        "id": "BC12nwTk3y7o"
      }
    },
    {
      "cell_type": "code",
      "source": [
        "migracjaLow = krajeLow[\"Net migration\"]\n",
        "gdpLow = krajeLow[\"GDP ($ per capita)\"]\n",
        "migracjaHigh = krajeHigh[\"Net migration\"]\n",
        "gdpHigh = krajeHigh[\"GDP ($ per capita)\"]\n",
        "\n",
        "plt.figure(figsize=(20,8))\n",
        "\n",
        "fig, (ax1, ax2) = plt.subplots(1, 2, sharey=True, figsize=(18,8))\n",
        "fig.suptitle(\"Migracja ludności a PKB\", fontsize=14)\n",
        "ax1.plot(gdpLow, migracjaLow, color=\"red\")\n",
        "ax1.set_title(\"Biedniejsze kraje\")\n",
        "ax1.set_xlabel(\"PKB w $ na mieszkańca\", fontsize=14)\n",
        "\n",
        "ax2.plot(gdpHigh, migracjaHigh, color=\"green\")\n",
        "ax2.set_title(\"Bogatsze kraje\")\n",
        "ax2.set_xlabel(\"PKB w $ na mieszkańca\", fontsize=14)\n",
        "\n",
        "fig.text(0.1, 0.5, 'Migracja ludności', fontsize=14, va='center', rotation='vertical')\n"
      ],
      "metadata": {
        "colab": {
          "base_uri": "https://localhost:8080/",
          "height": 589
        },
        "id": "1Sm2yRq8tvcf",
        "outputId": "da9887b5-c0f1-4eef-b9d4-519ce1cd6ee0"
      },
      "execution_count": null,
      "outputs": [
        {
          "output_type": "execute_result",
          "data": {
            "text/plain": [
              "Text(0.1, 0.5, 'Migracja ludności')"
            ]
          },
          "metadata": {},
          "execution_count": 24
        },
        {
          "output_type": "display_data",
          "data": {
            "text/plain": [
              "<Figure size 1440x576 with 0 Axes>"
            ]
          },
          "metadata": {}
        },
        {
          "output_type": "display_data",
          "data": {
            "text/plain": [
              "<Figure size 1296x576 with 2 Axes>"
            ],
            "image/png": "[encoded data removed]"
          },
          "metadata": {
            "needs_background": "light"
          }
        }
      ]
    },
    {
      "cell_type": "markdown",
      "source": [
        "Występuje wyraźna różnica między krajami o niskim i wysokim PKB.  \n",
        "Z krajów biedniejszych więcej ludzi emigruje, natomiast do krajów bogatszych więcej ludności napływa. "
      ],
      "metadata": {
        "id": "eb0yYT0vNCbv"
      }
    },
    {
      "cell_type": "markdown",
      "source": [
        "### Śmiertelność noworodków"
      ],
      "metadata": {
        "id": "6hXdtGvzm7_2"
      }
    },
    {
      "cell_type": "code",
      "source": [
        "\n",
        "x = krajeGdp[\"GDP ($ per capita)\"]\n",
        "y = krajeGdp[\"Infant mortality (per 1000 births)\"]\n",
        "\n",
        "plt.figure(figsize=(14,6))\n",
        "\n",
        "plt.plot(x, y, c=\"brown\")\n",
        "plt.title(\"Śmiertelność noworodków na 1000 urodzeń\", fontsize=14)\n",
        "plt.xlabel(\"PKB w $ na osobę\", fontsize=14)\n",
        "plt.ylabel(\"Zgony na 1000 urodzeń\", fontsize=14)"
      ],
      "metadata": {
        "colab": {
          "base_uri": "https://localhost:8080/",
          "height": 424
        },
        "id": "sRpqSdh_hkh-",
        "outputId": "03339625-4f0a-45f4-e862-3ea77537abf1"
      },
      "execution_count": null,
      "outputs": [
        {
          "output_type": "execute_result",
          "data": {
            "text/plain": [
              "Text(0, 0.5, 'Zgony na 1000 urodzeń')"
            ]
          },
          "metadata": {},
          "execution_count": 25
        },
        {
          "output_type": "display_data",
          "data": {
            "text/plain": [
              "<Figure size 1008x432 with 1 Axes>"
            ],
            "image/png": "[encoded data removed]"
          },
          "metadata": {
            "needs_background": "light"
          }
        }
      ]
    },
    {
      "cell_type": "markdown",
      "source": [
        "Wykres pokazuje, że w krajach o niskim PKB śmiertelność noworodków jest na bardzo wysokim poziomie i znacząco spada ze wzrostem PKB"
      ],
      "metadata": {
        "id": "Q-hvozXSnMIR"
      }
    },
    {
      "cell_type": "markdown",
      "source": [
        "# 4. Modelowanie i przewidywanie PKB"
      ],
      "metadata": {
        "id": "w39ypC7koOfC"
      }
    },
    {
      "cell_type": "code",
      "source": [
        "krajeGdp"
      ],
      "metadata": {
        "colab": {
          "base_uri": "https://localhost:8080/",
          "height": 720
        },
        "id": "Wx39m3F4pS7w",
        "outputId": "5bafb390-80fa-4d12-ed5b-3e7345b6df7d"
      },
      "execution_count": null,
      "outputs": [
        {
          "output_type": "execute_result",
          "data": {
            "text/plain": [
              "             Country                               Region  Population  \\\n",
              "154          Norway   WESTERN EUROPE                          4610820   \n",
              "214   United States   NORTHERN AMERICA                      298444215   \n",
              "22          Bermuda   NORTHERN AMERICA                          65773   \n",
              "38   Cayman Islands               LATIN AMER. & CARIB           45436   \n",
              "196     Switzerland   WESTERN EUROPE                          7523934   \n",
              "..               ...                                  ...         ...   \n",
              "0       Afghanistan         ASIA (EX. NEAR EAST)             31056997   \n",
              "33          Burundi   SUB-SAHARAN AFRICA                      8090068   \n",
              "125          Malawi   SUB-SAHARAN AFRICA                     13013926   \n",
              "183    Sierra Leone   SUB-SAHARAN AFRICA                      6005250   \n",
              "188         Somalia   SUB-SAHARAN AFRICA                      8863338   \n",
              "\n",
              "     Area (sq. mi.)  Pop. Density (per sq. mi.)  Coastline (coast/area ratio)  \\\n",
              "154          323802                        14.2                          7.77   \n",
              "214         9631420                        31.0                          0.21   \n",
              "22               53                      1241.0                        194.34   \n",
              "38              262                       173.4                         61.07   \n",
              "196           41290                       182.2                          0.00   \n",
              "..              ...                         ...                           ...   \n",
              "0            647500                        48.0                          0.00   \n",
              "33            27830                       290.7                          0.00   \n",
              "125          118480                       109.8                          0.00   \n",
              "183           71740                        83.7                          0.56   \n",
              "188          637657                        13.9                          0.47   \n",
              "\n",
              "     Net migration  Infant mortality (per 1000 births)  GDP ($ per capita)  \\\n",
              "154           1.74                                3.70             37800.0   \n",
              "214           3.41                                6.50             37800.0   \n",
              "22            2.49                                8.53             36000.0   \n",
              "38           18.75                                8.19             35000.0   \n",
              "196           4.05                                4.39             32700.0   \n",
              "..             ...                                 ...                 ...   \n",
              "0            23.06                              163.07               700.0   \n",
              "33           -0.06                               69.29               600.0   \n",
              "125           0.00                              103.32               600.0   \n",
              "183           0.00                              143.64               500.0   \n",
              "188           5.37                              116.70               500.0   \n",
              "\n",
              "     Literacy (%)  Phones (per 1000)  Birthrate  Deathrate  Agriculture  \\\n",
              "154         100.0              461.7      11.46       9.40        0.021   \n",
              "214          97.0              898.0      14.14       8.26        0.010   \n",
              "22           98.0              851.4      11.40       7.74        0.010   \n",
              "38           98.0              836.3      12.74       4.89        0.014   \n",
              "196          99.0              680.9       9.71       8.49        0.015   \n",
              "..            ...                ...        ...        ...          ...   \n",
              "0            36.0                3.2      46.60      20.34        0.380   \n",
              "33           51.6                3.4      42.22      13.46        0.463   \n",
              "125          62.7                7.9      43.13      19.33        0.342   \n",
              "183          31.4                4.0      45.76      23.03        0.490   \n",
              "188          37.8               11.3      45.13      16.63        0.650   \n",
              "\n",
              "     Industry  Service  \n",
              "154     0.415    0.564  \n",
              "214     0.204    0.787  \n",
              "22      0.100    0.890  \n",
              "38      0.032    0.954  \n",
              "196     0.340    0.645  \n",
              "..        ...      ...  \n",
              "0       0.240    0.380  \n",
              "33      0.203    0.334  \n",
              "125     0.158    0.499  \n",
              "183     0.310    0.210  \n",
              "188     0.100    0.250  \n",
              "\n",
              "[179 rows x 16 columns]"
            ],
            "text/html": [
              "\n",
              "  <div id=\"df-681800e2-bb28-4885-89ce-dd9736fe3be5\">\n",
              "    <div class=\"colab-df-container\">\n",
              "      <div>\n",
              "<style scoped>\n",
              "    .dataframe tbody tr th:only-of-type {\n",
              "        vertical-align: middle;\n",
              "    }\n",
              "\n",
              "    .dataframe tbody tr th {\n",
              "        vertical-align: top;\n",
              "    }\n",
              "\n",
              "    .dataframe thead th {\n",
              "        text-align: right;\n",
              "    }\n",
              "</style>\n",
              "<table border=\"1\" class=\"dataframe\">\n",
              "  <thead>\n",
              "    <tr style=\"text-align: right;\">\n",
              "      <th></th>\n",
              "      <th>Country</th>\n",
              "      <th>Region</th>\n",
              "      <th>Population</th>\n",
              "      <th>Area (sq. mi.)</th>\n",
              "      <th>Pop. Density (per sq. mi.)</th>\n",
              "      <th>Coastline (coast/area ratio)</th>\n",
              "      <th>Net migration</th>\n",
              "      <th>Infant mortality (per 1000 births)</th>\n",
              "      <th>GDP ($ per capita)</th>\n",
              "      <th>Literacy (%)</th>\n",
              "      <th>Phones (per 1000)</th>\n",
              "      <th>Birthrate</th>\n",
              "      <th>Deathrate</th>\n",
              "      <th>Agriculture</th>\n",
              "      <th>Industry</th>\n",
              "      <th>Service</th>\n",
              "    </tr>\n",
              "  </thead>\n",
              "  <tbody>\n",
              "    <tr>\n",
              "      <th>154</th>\n",
              "      <td>Norway</td>\n",
              "      <td>WESTERN EUROPE</td>\n",
              "      <td>4610820</td>\n",
              "      <td>323802</td>\n",
              "      <td>14.2</td>\n",
              "      <td>7.77</td>\n",
              "      <td>1.74</td>\n",
              "      <td>3.70</td>\n",
              "      <td>37800.0</td>\n",
              "      <td>100.0</td>\n",
              "      <td>461.7</td>\n",
              "      <td>11.46</td>\n",
              "      <td>9.40</td>\n",
              "      <td>0.021</td>\n",
              "      <td>0.415</td>\n",
              "      <td>0.564</td>\n",
              "    </tr>\n",
              "    <tr>\n",
              "      <th>214</th>\n",
              "      <td>United States</td>\n",
              "      <td>NORTHERN AMERICA</td>\n",
              "      <td>298444215</td>\n",
              "      <td>9631420</td>\n",
              "      <td>31.0</td>\n",
              "      <td>0.21</td>\n",
              "      <td>3.41</td>\n",
              "      <td>6.50</td>\n",
              "      <td>37800.0</td>\n",
              "      <td>97.0</td>\n",
              "      <td>898.0</td>\n",
              "      <td>14.14</td>\n",
              "      <td>8.26</td>\n",
              "      <td>0.010</td>\n",
              "      <td>0.204</td>\n",
              "      <td>0.787</td>\n",
              "    </tr>\n",
              "    <tr>\n",
              "      <th>22</th>\n",
              "      <td>Bermuda</td>\n",
              "      <td>NORTHERN AMERICA</td>\n",
              "      <td>65773</td>\n",
              "      <td>53</td>\n",
              "      <td>1241.0</td>\n",
              "      <td>194.34</td>\n",
              "      <td>2.49</td>\n",
              "      <td>8.53</td>\n",
              "      <td>36000.0</td>\n",
              "      <td>98.0</td>\n",
              "      <td>851.4</td>\n",
              "      <td>11.40</td>\n",
              "      <td>7.74</td>\n",
              "      <td>0.010</td>\n",
              "      <td>0.100</td>\n",
              "      <td>0.890</td>\n",
              "    </tr>\n",
              "    <tr>\n",
              "      <th>38</th>\n",
              "      <td>Cayman Islands</td>\n",
              "      <td>LATIN AMER. &amp; CARIB</td>\n",
              "      <td>45436</td>\n",
              "      <td>262</td>\n",
              "      <td>173.4</td>\n",
              "      <td>61.07</td>\n",
              "      <td>18.75</td>\n",
              "      <td>8.19</td>\n",
              "      <td>35000.0</td>\n",
              "      <td>98.0</td>\n",
              "      <td>836.3</td>\n",
              "      <td>12.74</td>\n",
              "      <td>4.89</td>\n",
              "      <td>0.014</td>\n",
              "      <td>0.032</td>\n",
              "      <td>0.954</td>\n",
              "    </tr>\n",
              "    <tr>\n",
              "      <th>196</th>\n",
              "      <td>Switzerland</td>\n",
              "      <td>WESTERN EUROPE</td>\n",
              "      <td>7523934</td>\n",
              "      <td>41290</td>\n",
              "      <td>182.2</td>\n",
              "      <td>0.00</td>\n",
              "      <td>4.05</td>\n",
              "      <td>4.39</td>\n",
              "      <td>32700.0</td>\n",
              "      <td>99.0</td>\n",
              "      <td>680.9</td>\n",
              "      <td>9.71</td>\n",
              "      <td>8.49</td>\n",
              "      <td>0.015</td>\n",
              "      <td>0.340</td>\n",
              "      <td>0.645</td>\n",
              "    </tr>\n",
              "    <tr>\n",
              "      <th>...</th>\n",
              "      <td>...</td>\n",
              "      <td>...</td>\n",
              "      <td>...</td>\n",
              "      <td>...</td>\n",
              "      <td>...</td>\n",
              "      <td>...</td>\n",
              "      <td>...</td>\n",
              "      <td>...</td>\n",
              "      <td>...</td>\n",
              "      <td>...</td>\n",
              "      <td>...</td>\n",
              "      <td>...</td>\n",
              "      <td>...</td>\n",
              "      <td>...</td>\n",
              "      <td>...</td>\n",
              "      <td>...</td>\n",
              "    </tr>\n",
              "    <tr>\n",
              "      <th>0</th>\n",
              "      <td>Afghanistan</td>\n",
              "      <td>ASIA (EX. NEAR EAST)</td>\n",
              "      <td>31056997</td>\n",
              "      <td>647500</td>\n",
              "      <td>48.0</td>\n",
              "      <td>0.00</td>\n",
              "      <td>23.06</td>\n",
              "      <td>163.07</td>\n",
              "      <td>700.0</td>\n",
              "      <td>36.0</td>\n",
              "      <td>3.2</td>\n",
              "      <td>46.60</td>\n",
              "      <td>20.34</td>\n",
              "      <td>0.380</td>\n",
              "      <td>0.240</td>\n",
              "      <td>0.380</td>\n",
              "    </tr>\n",
              "    <tr>\n",
              "      <th>33</th>\n",
              "      <td>Burundi</td>\n",
              "      <td>SUB-SAHARAN AFRICA</td>\n",
              "      <td>8090068</td>\n",
              "      <td>27830</td>\n",
              "      <td>290.7</td>\n",
              "      <td>0.00</td>\n",
              "      <td>-0.06</td>\n",
              "      <td>69.29</td>\n",
              "      <td>600.0</td>\n",
              "      <td>51.6</td>\n",
              "      <td>3.4</td>\n",
              "      <td>42.22</td>\n",
              "      <td>13.46</td>\n",
              "      <td>0.463</td>\n",
              "      <td>0.203</td>\n",
              "      <td>0.334</td>\n",
              "    </tr>\n",
              "    <tr>\n",
              "      <th>125</th>\n",
              "      <td>Malawi</td>\n",
              "      <td>SUB-SAHARAN AFRICA</td>\n",
              "      <td>13013926</td>\n",
              "      <td>118480</td>\n",
              "      <td>109.8</td>\n",
              "      <td>0.00</td>\n",
              "      <td>0.00</td>\n",
              "      <td>103.32</td>\n",
              "      <td>600.0</td>\n",
              "      <td>62.7</td>\n",
              "      <td>7.9</td>\n",
              "      <td>43.13</td>\n",
              "      <td>19.33</td>\n",
              "      <td>0.342</td>\n",
              "      <td>0.158</td>\n",
              "      <td>0.499</td>\n",
              "    </tr>\n",
              "    <tr>\n",
              "      <th>183</th>\n",
              "      <td>Sierra Leone</td>\n",
              "      <td>SUB-SAHARAN AFRICA</td>\n",
              "      <td>6005250</td>\n",
              "      <td>71740</td>\n",
              "      <td>83.7</td>\n",
              "      <td>0.56</td>\n",
              "      <td>0.00</td>\n",
              "      <td>143.64</td>\n",
              "      <td>500.0</td>\n",
              "      <td>31.4</td>\n",
              "      <td>4.0</td>\n",
              "      <td>45.76</td>\n",
              "      <td>23.03</td>\n",
              "      <td>0.490</td>\n",
              "      <td>0.310</td>\n",
              "      <td>0.210</td>\n",
              "    </tr>\n",
              "    <tr>\n",
              "      <th>188</th>\n",
              "      <td>Somalia</td>\n",
              "      <td>SUB-SAHARAN AFRICA</td>\n",
              "      <td>8863338</td>\n",
              "      <td>637657</td>\n",
              "      <td>13.9</td>\n",
              "      <td>0.47</td>\n",
              "      <td>5.37</td>\n",
              "      <td>116.70</td>\n",
              "      <td>500.0</td>\n",
              "      <td>37.8</td>\n",
              "      <td>11.3</td>\n",
              "      <td>45.13</td>\n",
              "      <td>16.63</td>\n",
              "      <td>0.650</td>\n",
              "      <td>0.100</td>\n",
              "      <td>0.250</td>\n",
              "    </tr>\n",
              "  </tbody>\n",
              "</table>\n",
              "<p>179 rows × 16 columns</p>\n",
              "</div>\n",
              "      <button class=\"colab-df-convert\" onclick=\"convertToInteractive('df-681800e2-bb28-4885-89ce-dd9736fe3be5')\"\n",
              "              title=\"Convert this dataframe to an interactive table.\"\n",
              "              style=\"display:none;\">\n",
              "        \n",
              "  <svg xmlns=\"http://www.w3.org/2000/svg\" height=\"24px\"viewBox=\"0 0 24 24\"\n",
              "       width=\"24px\">\n",
              "    <path d=\"M0 0h24v24H0V0z\" fill=\"none\"/>\n",
              "    <path d=\"M18.56 5.44l.94 2.06.94-2.06 2.06-.94-2.06-.94-.94-2.06-.94 2.06-2.06.94zm-11 1L8.5 8.5l.94-2.06 2.06-.94-2.06-.94L8.5 2.5l-.94 2.06-2.06.94zm10 10l.94 2.06.94-2.06 2.06-.94-2.06-.94-.94-2.06-.94 2.06-2.06.94z\"/><path d=\"M17.41 7.96l-1.37-1.37c-.4-.4-.92-.59-1.43-.59-.52 0-1.04.2-1.43.59L10.3 9.45l-7.72 7.72c-.78.78-.78 2.05 0 2.83L4 21.41c.39.39.9.59 1.41.59.51 0 1.02-.2 1.41-.59l7.78-7.78 2.81-2.81c.8-.78.8-2.07 0-2.86zM5.41 20L4 18.59l7.72-7.72 1.47 1.35L5.41 20z\"/>\n",
              "  </svg>\n",
              "      </button>\n",
              "      \n",
              "  <style>\n",
              "    .colab-df-container {\n",
              "      display:flex;\n",
              "      flex-wrap:wrap;\n",
              "      gap: 12px;\n",
              "    }\n",
              "\n",
              "    .colab-df-convert {\n",
              "      background-color: #E8F0FE;\n",
              "      border: none;\n",
              "      border-radius: 50%;\n",
              "      cursor: pointer;\n",
              "      display: none;\n",
              "      fill: #1967D2;\n",
              "      height: 32px;\n",
              "      padding: 0 0 0 0;\n",
              "      width: 32px;\n",
              "    }\n",
              "\n",
              "    .colab-df-convert:hover {\n",
              "      background-color: #E2EBFA;\n",
              "      box-shadow: 0px 1px 2px rgba(60, 64, 67, 0.3), 0px 1px 3px 1px rgba(60, 64, 67, 0.15);\n",
              "      fill: #174EA6;\n",
              "    }\n",
              "\n",
              "    [theme=dark] .colab-df-convert {\n",
              "      background-color: #3B4455;\n",
              "      fill: #D2E3FC;\n",
              "    }\n",
              "\n",
              "    [theme=dark] .colab-df-convert:hover {\n",
              "      background-color: #434B5C;\n",
              "      box-shadow: 0px 1px 3px 1px rgba(0, 0, 0, 0.15);\n",
              "      filter: drop-shadow(0px 1px 2px rgba(0, 0, 0, 0.3));\n",
              "      fill: #FFFFFF;\n",
              "    }\n",
              "  </style>\n",
              "\n",
              "      <script>\n",
              "        const buttonEl =\n",
              "          document.querySelector('#df-681800e2-bb28-4885-89ce-dd9736fe3be5 button.colab-df-convert');\n",
              "        buttonEl.style.display =\n",
              "          google.colab.kernel.accessAllowed ? 'block' : 'none';\n",
              "\n",
              "        async function convertToInteractive(key) {\n",
              "          const element = document.querySelector('#df-681800e2-bb28-4885-89ce-dd9736fe3be5');\n",
              "          const dataTable =\n",
              "            await google.colab.kernel.invokeFunction('convertToInteractive',\n",
              "                                                     [key], {});\n",
              "          if (!dataTable) return;\n",
              "\n",
              "          const docLinkHtml = 'Like what you see? Visit the ' +\n",
              "            '<a target=\"_blank\" href=https://colab.research.google.com/notebooks/data_table.ipynb>data table notebook</a>'\n",
              "            + ' to learn more about interactive tables.';\n",
              "          element.innerHTML = '';\n",
              "          dataTable['output_type'] = 'display_data';\n",
              "          await google.colab.output.renderOutput(dataTable, element);\n",
              "          const docLink = document.createElement('div');\n",
              "          docLink.innerHTML = docLinkHtml;\n",
              "          element.appendChild(docLink);\n",
              "        }\n",
              "      </script>\n",
              "    </div>\n",
              "  </div>\n",
              "  "
            ]
          },
          "metadata": {},
          "execution_count": 26
        }
      ]
    },
    {
      "cell_type": "code",
      "source": [
        "# Uprościmy tabelę jeszcze bardziej zostawiając tylko kolumny z silnymi korelacjami z PKB\n",
        "krajeML = krajeGdp.drop(['Region', 'Country', 'Population','Area (sq. mi.)', 'Pop. Density (per sq. mi.)', 'Coastline (coast/area ratio)', 'Deathrate', 'Industry'], axis=1)"
      ],
      "metadata": {
        "id": "fFFKzvv3p0Fs"
      },
      "execution_count": null,
      "outputs": []
    },
    {
      "cell_type": "code",
      "source": [
        "krajeML"
      ],
      "metadata": {
        "colab": {
          "base_uri": "https://localhost:8080/",
          "height": 411
        },
        "id": "esfBdzR0p64S",
        "outputId": "cb93f8ae-6ad0-4cee-b76c-8133b99cdfb2"
      },
      "execution_count": null,
      "outputs": [
        {
          "output_type": "execute_result",
          "data": {
            "text/plain": [
              "     Net migration  Infant mortality (per 1000 births)  GDP ($ per capita)  \\\n",
              "154           1.74                                3.70             37800.0   \n",
              "214           3.41                                6.50             37800.0   \n",
              "22            2.49                                8.53             36000.0   \n",
              "38           18.75                                8.19             35000.0   \n",
              "196           4.05                                4.39             32700.0   \n",
              "..             ...                                 ...                 ...   \n",
              "0            23.06                              163.07               700.0   \n",
              "33           -0.06                               69.29               600.0   \n",
              "125           0.00                              103.32               600.0   \n",
              "183           0.00                              143.64               500.0   \n",
              "188           5.37                              116.70               500.0   \n",
              "\n",
              "     Literacy (%)  Phones (per 1000)  Birthrate  Agriculture  Service  \n",
              "154         100.0              461.7      11.46        0.021    0.564  \n",
              "214          97.0              898.0      14.14        0.010    0.787  \n",
              "22           98.0              851.4      11.40        0.010    0.890  \n",
              "38           98.0              836.3      12.74        0.014    0.954  \n",
              "196          99.0              680.9       9.71        0.015    0.645  \n",
              "..            ...                ...        ...          ...      ...  \n",
              "0            36.0                3.2      46.60        0.380    0.380  \n",
              "33           51.6                3.4      42.22        0.463    0.334  \n",
              "125          62.7                7.9      43.13        0.342    0.499  \n",
              "183          31.4                4.0      45.76        0.490    0.210  \n",
              "188          37.8               11.3      45.13        0.650    0.250  \n",
              "\n",
              "[179 rows x 8 columns]"
            ],
            "text/html": [
              "\n",
              "  <div id=\"df-edecd69b-3b55-4fd1-b473-0ede56172e69\">\n",
              "    <div class=\"colab-df-container\">\n",
              "      <div>\n",
              "<style scoped>\n",
              "    .dataframe tbody tr th:only-of-type {\n",
              "        vertical-align: middle;\n",
              "    }\n",
              "\n",
              "    .dataframe tbody tr th {\n",
              "        vertical-align: top;\n",
              "    }\n",
              "\n",
              "    .dataframe thead th {\n",
              "        text-align: right;\n",
              "    }\n",
              "</style>\n",
              "<table border=\"1\" class=\"dataframe\">\n",
              "  <thead>\n",
              "    <tr style=\"text-align: right;\">\n",
              "      <th></th>\n",
              "      <th>Net migration</th>\n",
              "      <th>Infant mortality (per 1000 births)</th>\n",
              "      <th>GDP ($ per capita)</th>\n",
              "      <th>Literacy (%)</th>\n",
              "      <th>Phones (per 1000)</th>\n",
              "      <th>Birthrate</th>\n",
              "      <th>Agriculture</th>\n",
              "      <th>Service</th>\n",
              "    </tr>\n",
              "  </thead>\n",
              "  <tbody>\n",
              "    <tr>\n",
              "      <th>154</th>\n",
              "      <td>1.74</td>\n",
              "      <td>3.70</td>\n",
              "      <td>37800.0</td>\n",
              "      <td>100.0</td>\n",
              "      <td>461.7</td>\n",
              "      <td>11.46</td>\n",
              "      <td>0.021</td>\n",
              "      <td>0.564</td>\n",
              "    </tr>\n",
              "    <tr>\n",
              "      <th>214</th>\n",
              "      <td>3.41</td>\n",
              "      <td>6.50</td>\n",
              "      <td>37800.0</td>\n",
              "      <td>97.0</td>\n",
              "      <td>898.0</td>\n",
              "      <td>14.14</td>\n",
              "      <td>0.010</td>\n",
              "      <td>0.787</td>\n",
              "    </tr>\n",
              "    <tr>\n",
              "      <th>22</th>\n",
              "      <td>2.49</td>\n",
              "      <td>8.53</td>\n",
              "      <td>36000.0</td>\n",
              "      <td>98.0</td>\n",
              "      <td>851.4</td>\n",
              "      <td>11.40</td>\n",
              "      <td>0.010</td>\n",
              "      <td>0.890</td>\n",
              "    </tr>\n",
              "    <tr>\n",
              "      <th>38</th>\n",
              "      <td>18.75</td>\n",
              "      <td>8.19</td>\n",
              "      <td>35000.0</td>\n",
              "      <td>98.0</td>\n",
              "      <td>836.3</td>\n",
              "      <td>12.74</td>\n",
              "      <td>0.014</td>\n",
              "      <td>0.954</td>\n",
              "    </tr>\n",
              "    <tr>\n",
              "      <th>196</th>\n",
              "      <td>4.05</td>\n",
              "      <td>4.39</td>\n",
              "      <td>32700.0</td>\n",
              "      <td>99.0</td>\n",
              "      <td>680.9</td>\n",
              "      <td>9.71</td>\n",
              "      <td>0.015</td>\n",
              "      <td>0.645</td>\n",
              "    </tr>\n",
              "    <tr>\n",
              "      <th>...</th>\n",
              "      <td>...</td>\n",
              "      <td>...</td>\n",
              "      <td>...</td>\n",
              "      <td>...</td>\n",
              "      <td>...</td>\n",
              "      <td>...</td>\n",
              "      <td>...</td>\n",
              "      <td>...</td>\n",
              "    </tr>\n",
              "    <tr>\n",
              "      <th>0</th>\n",
              "      <td>23.06</td>\n",
              "      <td>163.07</td>\n",
              "      <td>700.0</td>\n",
              "      <td>36.0</td>\n",
              "      <td>3.2</td>\n",
              "      <td>46.60</td>\n",
              "      <td>0.380</td>\n",
              "      <td>0.380</td>\n",
              "    </tr>\n",
              "    <tr>\n",
              "      <th>33</th>\n",
              "      <td>-0.06</td>\n",
              "      <td>69.29</td>\n",
              "      <td>600.0</td>\n",
              "      <td>51.6</td>\n",
              "      <td>3.4</td>\n",
              "      <td>42.22</td>\n",
              "      <td>0.463</td>\n",
              "      <td>0.334</td>\n",
              "    </tr>\n",
              "    <tr>\n",
              "      <th>125</th>\n",
              "      <td>0.00</td>\n",
              "      <td>103.32</td>\n",
              "      <td>600.0</td>\n",
              "      <td>62.7</td>\n",
              "      <td>7.9</td>\n",
              "      <td>43.13</td>\n",
              "      <td>0.342</td>\n",
              "      <td>0.499</td>\n",
              "    </tr>\n",
              "    <tr>\n",
              "      <th>183</th>\n",
              "      <td>0.00</td>\n",
              "      <td>143.64</td>\n",
              "      <td>500.0</td>\n",
              "      <td>31.4</td>\n",
              "      <td>4.0</td>\n",
              "      <td>45.76</td>\n",
              "      <td>0.490</td>\n",
              "      <td>0.210</td>\n",
              "    </tr>\n",
              "    <tr>\n",
              "      <th>188</th>\n",
              "      <td>5.37</td>\n",
              "      <td>116.70</td>\n",
              "      <td>500.0</td>\n",
              "      <td>37.8</td>\n",
              "      <td>11.3</td>\n",
              "      <td>45.13</td>\n",
              "      <td>0.650</td>\n",
              "      <td>0.250</td>\n",
              "    </tr>\n",
              "  </tbody>\n",
              "</table>\n",
              "<p>179 rows × 8 columns</p>\n",
              "</div>\n",
              "      <button class=\"colab-df-convert\" onclick=\"convertToInteractive('df-edecd69b-3b55-4fd1-b473-0ede56172e69')\"\n",
              "              title=\"Convert this dataframe to an interactive table.\"\n",
              "              style=\"display:none;\">\n",
              "        \n",
              "  <svg xmlns=\"http://www.w3.org/2000/svg\" height=\"24px\"viewBox=\"0 0 24 24\"\n",
              "       width=\"24px\">\n",
              "    <path d=\"M0 0h24v24H0V0z\" fill=\"none\"/>\n",
              "    <path d=\"M18.56 5.44l.94 2.06.94-2.06 2.06-.94-2.06-.94-.94-2.06-.94 2.06-2.06.94zm-11 1L8.5 8.5l.94-2.06 2.06-.94-2.06-.94L8.5 2.5l-.94 2.06-2.06.94zm10 10l.94 2.06.94-2.06 2.06-.94-2.06-.94-.94-2.06-.94 2.06-2.06.94z\"/><path d=\"M17.41 7.96l-1.37-1.37c-.4-.4-.92-.59-1.43-.59-.52 0-1.04.2-1.43.59L10.3 9.45l-7.72 7.72c-.78.78-.78 2.05 0 2.83L4 21.41c.39.39.9.59 1.41.59.51 0 1.02-.2 1.41-.59l7.78-7.78 2.81-2.81c.8-.78.8-2.07 0-2.86zM5.41 20L4 18.59l7.72-7.72 1.47 1.35L5.41 20z\"/>\n",
              "  </svg>\n",
              "      </button>\n",
              "      \n",
              "  <style>\n",
              "    .colab-df-container {\n",
              "      display:flex;\n",
              "      flex-wrap:wrap;\n",
              "      gap: 12px;\n",
              "    }\n",
              "\n",
              "    .colab-df-convert {\n",
              "      background-color: #E8F0FE;\n",
              "      border: none;\n",
              "      border-radius: 50%;\n",
              "      cursor: pointer;\n",
              "      display: none;\n",
              "      fill: #1967D2;\n",
              "      height: 32px;\n",
              "      padding: 0 0 0 0;\n",
              "      width: 32px;\n",
              "    }\n",
              "\n",
              "    .colab-df-convert:hover {\n",
              "      background-color: #E2EBFA;\n",
              "      box-shadow: 0px 1px 2px rgba(60, 64, 67, 0.3), 0px 1px 3px 1px rgba(60, 64, 67, 0.15);\n",
              "      fill: #174EA6;\n",
              "    }\n",
              "\n",
              "    [theme=dark] .colab-df-convert {\n",
              "      background-color: #3B4455;\n",
              "      fill: #D2E3FC;\n",
              "    }\n",
              "\n",
              "    [theme=dark] .colab-df-convert:hover {\n",
              "      background-color: #434B5C;\n",
              "      box-shadow: 0px 1px 3px 1px rgba(0, 0, 0, 0.15);\n",
              "      filter: drop-shadow(0px 1px 2px rgba(0, 0, 0, 0.3));\n",
              "      fill: #FFFFFF;\n",
              "    }\n",
              "  </style>\n",
              "\n",
              "      <script>\n",
              "        const buttonEl =\n",
              "          document.querySelector('#df-edecd69b-3b55-4fd1-b473-0ede56172e69 button.colab-df-convert');\n",
              "        buttonEl.style.display =\n",
              "          google.colab.kernel.accessAllowed ? 'block' : 'none';\n",
              "\n",
              "        async function convertToInteractive(key) {\n",
              "          const element = document.querySelector('#df-edecd69b-3b55-4fd1-b473-0ede56172e69');\n",
              "          const dataTable =\n",
              "            await google.colab.kernel.invokeFunction('convertToInteractive',\n",
              "                                                     [key], {});\n",
              "          if (!dataTable) return;\n",
              "\n",
              "          const docLinkHtml = 'Like what you see? Visit the ' +\n",
              "            '<a target=\"_blank\" href=https://colab.research.google.com/notebooks/data_table.ipynb>data table notebook</a>'\n",
              "            + ' to learn more about interactive tables.';\n",
              "          element.innerHTML = '';\n",
              "          dataTable['output_type'] = 'display_data';\n",
              "          await google.colab.output.renderOutput(dataTable, element);\n",
              "          const docLink = document.createElement('div');\n",
              "          docLink.innerHTML = docLinkHtml;\n",
              "          element.appendChild(docLink);\n",
              "        }\n",
              "      </script>\n",
              "    </div>\n",
              "  </div>\n",
              "  "
            ]
          },
          "metadata": {},
          "execution_count": 28
        }
      ]
    },
    {
      "cell_type": "code",
      "source": [
        "# Dzielimy dane na zbiór trenujący(cechy) i kolumnę celu(PKB)\n",
        "cechy = krajeML.drop([\"GDP ($ per capita)\"], axis=1)\n",
        "cel = krajeML[\"GDP ($ per capita)\"]\n"
      ],
      "metadata": {
        "id": "5W2ZAaIhyJ2A"
      },
      "execution_count": null,
      "outputs": []
    },
    {
      "cell_type": "code",
      "source": [
        "# Dzielimy dane na zbiór treningowy i testowy\n",
        "\n",
        "from sklearn.model_selection import train_test_split\n",
        "\n",
        "cechyTrain, cechyTest, celTrain, celTest = train_test_split(cechy, cel)\n",
        "print(f\"Wielkość zbiorów treningowych: {len(cechyTrain)} i {len(celTrain)}, wielkość zbiorów testowych: {len(cechyTest)} i {len(celTest)}\")"
      ],
      "metadata": {
        "colab": {
          "base_uri": "https://localhost:8080/"
        },
        "id": "CqgAnDxdR_ll",
        "outputId": "5f637b85-83a1-4c59-de6c-25dd71a3cbd3"
      },
      "execution_count": null,
      "outputs": [
        {
          "output_type": "stream",
          "name": "stdout",
          "text": [
            "Wielkość zbiorów treningowych: 134 i 134, wielkość zbiorów testowych: 45 i 45\n"
          ]
        }
      ]
    },
    {
      "cell_type": "code",
      "source": [
        "# Budujemy model RandomForest\n",
        "\n",
        "from sklearn.ensemble import RandomForestRegressor\n",
        "\n",
        "rfModel = RandomForestRegressor()\n",
        "rfModel.fit(cechyTrain, celTrain)"
      ],
      "metadata": {
        "colab": {
          "base_uri": "https://localhost:8080/"
        },
        "id": "d_NJbz-zfUop",
        "outputId": "22bed9dc-43a6-4fb9-df90-ef0721281225"
      },
      "execution_count": null,
      "outputs": [
        {
          "output_type": "execute_result",
          "data": {
            "text/plain": [
              "RandomForestRegressor()"
            ]
          },
          "metadata": {},
          "execution_count": 31
        }
      ]
    },
    {
      "cell_type": "code",
      "source": [
        "rfModel.score(cechyTest, celTest)"
      ],
      "metadata": {
        "colab": {
          "base_uri": "https://localhost:8080/"
        },
        "id": "hsctk_E-fUSP",
        "outputId": "4369d05c-9f58-4c70-8371-5f739bf7dc7f"
      },
      "execution_count": null,
      "outputs": [
        {
          "output_type": "execute_result",
          "data": {
            "text/plain": [
              "0.8382528729398104"
            ]
          },
          "metadata": {},
          "execution_count": 32
        }
      ]
    },
    {
      "cell_type": "markdown",
      "source": [
        "Model sprawdza się całkiem nieźle - ma blisko 84% skutecznośći.  \n",
        "Sprawdzimy jeszcze model na ręcznie wprowadzonych wartościach.  \n",
        "Użyjemy do tego danych Szwajcarii oraz USA i zobaczymy co przewidzi model."
      ],
      "metadata": {
        "id": "x7pwiLRgoqMg"
      }
    },
    {
      "cell_type": "code",
      "source": [
        "krajeGdp.head(5)"
      ],
      "metadata": {
        "colab": {
          "base_uri": "https://localhost:8080/",
          "height": 360
        },
        "id": "TMk1GR6c07yS",
        "outputId": "790fb6ee-b39c-4d1f-e74a-6607b3d62814"
      },
      "execution_count": null,
      "outputs": [
        {
          "output_type": "execute_result",
          "data": {
            "text/plain": [
              "             Country                               Region  Population  \\\n",
              "154          Norway   WESTERN EUROPE                          4610820   \n",
              "214   United States   NORTHERN AMERICA                      298444215   \n",
              "22          Bermuda   NORTHERN AMERICA                          65773   \n",
              "38   Cayman Islands               LATIN AMER. & CARIB           45436   \n",
              "196     Switzerland   WESTERN EUROPE                          7523934   \n",
              "\n",
              "     Area (sq. mi.)  Pop. Density (per sq. mi.)  Coastline (coast/area ratio)  \\\n",
              "154          323802                        14.2                          7.77   \n",
              "214         9631420                        31.0                          0.21   \n",
              "22               53                      1241.0                        194.34   \n",
              "38              262                       173.4                         61.07   \n",
              "196           41290                       182.2                          0.00   \n",
              "\n",
              "     Net migration  Infant mortality (per 1000 births)  GDP ($ per capita)  \\\n",
              "154           1.74                                3.70             37800.0   \n",
              "214           3.41                                6.50             37800.0   \n",
              "22            2.49                                8.53             36000.0   \n",
              "38           18.75                                8.19             35000.0   \n",
              "196           4.05                                4.39             32700.0   \n",
              "\n",
              "     Literacy (%)  Phones (per 1000)  Birthrate  Deathrate  Agriculture  \\\n",
              "154         100.0              461.7      11.46       9.40        0.021   \n",
              "214          97.0              898.0      14.14       8.26        0.010   \n",
              "22           98.0              851.4      11.40       7.74        0.010   \n",
              "38           98.0              836.3      12.74       4.89        0.014   \n",
              "196          99.0              680.9       9.71       8.49        0.015   \n",
              "\n",
              "     Industry  Service  \n",
              "154     0.415    0.564  \n",
              "214     0.204    0.787  \n",
              "22      0.100    0.890  \n",
              "38      0.032    0.954  \n",
              "196     0.340    0.645  "
            ],
            "text/html": [
              "\n",
              "  <div id=\"df-45aeb432-daee-48b4-9eb2-d54c79825fe7\">\n",
              "    <div class=\"colab-df-container\">\n",
              "      <div>\n",
              "<style scoped>\n",
              "    .dataframe tbody tr th:only-of-type {\n",
              "        vertical-align: middle;\n",
              "    }\n",
              "\n",
              "    .dataframe tbody tr th {\n",
              "        vertical-align: top;\n",
              "    }\n",
              "\n",
              "    .dataframe thead th {\n",
              "        text-align: right;\n",
              "    }\n",
              "</style>\n",
              "<table border=\"1\" class=\"dataframe\">\n",
              "  <thead>\n",
              "    <tr style=\"text-align: right;\">\n",
              "      <th></th>\n",
              "      <th>Country</th>\n",
              "      <th>Region</th>\n",
              "      <th>Population</th>\n",
              "      <th>Area (sq. mi.)</th>\n",
              "      <th>Pop. Density (per sq. mi.)</th>\n",
              "      <th>Coastline (coast/area ratio)</th>\n",
              "      <th>Net migration</th>\n",
              "      <th>Infant mortality (per 1000 births)</th>\n",
              "      <th>GDP ($ per capita)</th>\n",
              "      <th>Literacy (%)</th>\n",
              "      <th>Phones (per 1000)</th>\n",
              "      <th>Birthrate</th>\n",
              "      <th>Deathrate</th>\n",
              "      <th>Agriculture</th>\n",
              "      <th>Industry</th>\n",
              "      <th>Service</th>\n",
              "    </tr>\n",
              "  </thead>\n",
              "  <tbody>\n",
              "    <tr>\n",
              "      <th>154</th>\n",
              "      <td>Norway</td>\n",
              "      <td>WESTERN EUROPE</td>\n",
              "      <td>4610820</td>\n",
              "      <td>323802</td>\n",
              "      <td>14.2</td>\n",
              "      <td>7.77</td>\n",
              "      <td>1.74</td>\n",
              "      <td>3.70</td>\n",
              "      <td>37800.0</td>\n",
              "      <td>100.0</td>\n",
              "      <td>461.7</td>\n",
              "      <td>11.46</td>\n",
              "      <td>9.40</td>\n",
              "      <td>0.021</td>\n",
              "      <td>0.415</td>\n",
              "      <td>0.564</td>\n",
              "    </tr>\n",
              "    <tr>\n",
              "      <th>214</th>\n",
              "      <td>United States</td>\n",
              "      <td>NORTHERN AMERICA</td>\n",
              "      <td>298444215</td>\n",
              "      <td>9631420</td>\n",
              "      <td>31.0</td>\n",
              "      <td>0.21</td>\n",
              "      <td>3.41</td>\n",
              "      <td>6.50</td>\n",
              "      <td>37800.0</td>\n",
              "      <td>97.0</td>\n",
              "      <td>898.0</td>\n",
              "      <td>14.14</td>\n",
              "      <td>8.26</td>\n",
              "      <td>0.010</td>\n",
              "      <td>0.204</td>\n",
              "      <td>0.787</td>\n",
              "    </tr>\n",
              "    <tr>\n",
              "      <th>22</th>\n",
              "      <td>Bermuda</td>\n",
              "      <td>NORTHERN AMERICA</td>\n",
              "      <td>65773</td>\n",
              "      <td>53</td>\n",
              "      <td>1241.0</td>\n",
              "      <td>194.34</td>\n",
              "      <td>2.49</td>\n",
              "      <td>8.53</td>\n",
              "      <td>36000.0</td>\n",
              "      <td>98.0</td>\n",
              "      <td>851.4</td>\n",
              "      <td>11.40</td>\n",
              "      <td>7.74</td>\n",
              "      <td>0.010</td>\n",
              "      <td>0.100</td>\n",
              "      <td>0.890</td>\n",
              "    </tr>\n",
              "    <tr>\n",
              "      <th>38</th>\n",
              "      <td>Cayman Islands</td>\n",
              "      <td>LATIN AMER. &amp; CARIB</td>\n",
              "      <td>45436</td>\n",
              "      <td>262</td>\n",
              "      <td>173.4</td>\n",
              "      <td>61.07</td>\n",
              "      <td>18.75</td>\n",
              "      <td>8.19</td>\n",
              "      <td>35000.0</td>\n",
              "      <td>98.0</td>\n",
              "      <td>836.3</td>\n",
              "      <td>12.74</td>\n",
              "      <td>4.89</td>\n",
              "      <td>0.014</td>\n",
              "      <td>0.032</td>\n",
              "      <td>0.954</td>\n",
              "    </tr>\n",
              "    <tr>\n",
              "      <th>196</th>\n",
              "      <td>Switzerland</td>\n",
              "      <td>WESTERN EUROPE</td>\n",
              "      <td>7523934</td>\n",
              "      <td>41290</td>\n",
              "      <td>182.2</td>\n",
              "      <td>0.00</td>\n",
              "      <td>4.05</td>\n",
              "      <td>4.39</td>\n",
              "      <td>32700.0</td>\n",
              "      <td>99.0</td>\n",
              "      <td>680.9</td>\n",
              "      <td>9.71</td>\n",
              "      <td>8.49</td>\n",
              "      <td>0.015</td>\n",
              "      <td>0.340</td>\n",
              "      <td>0.645</td>\n",
              "    </tr>\n",
              "  </tbody>\n",
              "</table>\n",
              "</div>\n",
              "      <button class=\"colab-df-convert\" onclick=\"convertToInteractive('df-45aeb432-daee-48b4-9eb2-d54c79825fe7')\"\n",
              "              title=\"Convert this dataframe to an interactive table.\"\n",
              "              style=\"display:none;\">\n",
              "        \n",
              "  <svg xmlns=\"http://www.w3.org/2000/svg\" height=\"24px\"viewBox=\"0 0 24 24\"\n",
              "       width=\"24px\">\n",
              "    <path d=\"M0 0h24v24H0V0z\" fill=\"none\"/>\n",
              "    <path d=\"M18.56 5.44l.94 2.06.94-2.06 2.06-.94-2.06-.94-.94-2.06-.94 2.06-2.06.94zm-11 1L8.5 8.5l.94-2.06 2.06-.94-2.06-.94L8.5 2.5l-.94 2.06-2.06.94zm10 10l.94 2.06.94-2.06 2.06-.94-2.06-.94-.94-2.06-.94 2.06-2.06.94z\"/><path d=\"M17.41 7.96l-1.37-1.37c-.4-.4-.92-.59-1.43-.59-.52 0-1.04.2-1.43.59L10.3 9.45l-7.72 7.72c-.78.78-.78 2.05 0 2.83L4 21.41c.39.39.9.59 1.41.59.51 0 1.02-.2 1.41-.59l7.78-7.78 2.81-2.81c.8-.78.8-2.07 0-2.86zM5.41 20L4 18.59l7.72-7.72 1.47 1.35L5.41 20z\"/>\n",
              "  </svg>\n",
              "      </button>\n",
              "      \n",
              "  <style>\n",
              "    .colab-df-container {\n",
              "      display:flex;\n",
              "      flex-wrap:wrap;\n",
              "      gap: 12px;\n",
              "    }\n",
              "\n",
              "    .colab-df-convert {\n",
              "      background-color: #E8F0FE;\n",
              "      border: none;\n",
              "      border-radius: 50%;\n",
              "      cursor: pointer;\n",
              "      display: none;\n",
              "      fill: #1967D2;\n",
              "      height: 32px;\n",
              "      padding: 0 0 0 0;\n",
              "      width: 32px;\n",
              "    }\n",
              "\n",
              "    .colab-df-convert:hover {\n",
              "      background-color: #E2EBFA;\n",
              "      box-shadow: 0px 1px 2px rgba(60, 64, 67, 0.3), 0px 1px 3px 1px rgba(60, 64, 67, 0.15);\n",
              "      fill: #174EA6;\n",
              "    }\n",
              "\n",
              "    [theme=dark] .colab-df-convert {\n",
              "      background-color: #3B4455;\n",
              "      fill: #D2E3FC;\n",
              "    }\n",
              "\n",
              "    [theme=dark] .colab-df-convert:hover {\n",
              "      background-color: #434B5C;\n",
              "      box-shadow: 0px 1px 3px 1px rgba(0, 0, 0, 0.15);\n",
              "      filter: drop-shadow(0px 1px 2px rgba(0, 0, 0, 0.3));\n",
              "      fill: #FFFFFF;\n",
              "    }\n",
              "  </style>\n",
              "\n",
              "      <script>\n",
              "        const buttonEl =\n",
              "          document.querySelector('#df-45aeb432-daee-48b4-9eb2-d54c79825fe7 button.colab-df-convert');\n",
              "        buttonEl.style.display =\n",
              "          google.colab.kernel.accessAllowed ? 'block' : 'none';\n",
              "\n",
              "        async function convertToInteractive(key) {\n",
              "          const element = document.querySelector('#df-45aeb432-daee-48b4-9eb2-d54c79825fe7');\n",
              "          const dataTable =\n",
              "            await google.colab.kernel.invokeFunction('convertToInteractive',\n",
              "                                                     [key], {});\n",
              "          if (!dataTable) return;\n",
              "\n",
              "          const docLinkHtml = 'Like what you see? Visit the ' +\n",
              "            '<a target=\"_blank\" href=https://colab.research.google.com/notebooks/data_table.ipynb>data table notebook</a>'\n",
              "            + ' to learn more about interactive tables.';\n",
              "          element.innerHTML = '';\n",
              "          dataTable['output_type'] = 'display_data';\n",
              "          await google.colab.output.renderOutput(dataTable, element);\n",
              "          const docLink = document.createElement('div');\n",
              "          docLink.innerHTML = docLinkHtml;\n",
              "          element.appendChild(docLink);\n",
              "        }\n",
              "      </script>\n",
              "    </div>\n",
              "  </div>\n",
              "  "
            ]
          },
          "metadata": {},
          "execution_count": 33
        }
      ]
    },
    {
      "cell_type": "code",
      "source": [
        "cechySzwajcaria = np.array([[4.05, 4.39, 99, 680.9, 9.71, 0.015, 0.645]])\n",
        "daneSzwajcaria = pd.DataFrame(cechySzwajcaria, columns=cechyTrain.columns)\n",
        "\n",
        "przewidywanieSz = rfModel.predict(daneSzwajcaria)\n",
        "\n",
        "cechyUSA = np.array([[3.41, 6.5, 97, 898, 14.14, 0.01, 0.787]])\n",
        "daneUSA = pd.DataFrame(cechyUSA, columns=cechyTrain.columns)\n",
        "\n",
        "przewidywanieUSA = rfModel.predict(daneUSA)\n",
        "\n",
        "print(f\"Przewidywane PKB dla Szwajcarii to: {przewidywanieSz}\")\n",
        "print(f\"Przewidywane PKB dla USA to: {przewidywanieUSA}\")"
      ],
      "metadata": {
        "colab": {
          "base_uri": "https://localhost:8080/"
        },
        "id": "H9kfQVQ28bIo",
        "outputId": "06a46930-a1ef-454d-b67c-34b009d9bd53"
      },
      "execution_count": null,
      "outputs": [
        {
          "output_type": "stream",
          "name": "stdout",
          "text": [
            "Przewidywane PKB dla Szwajcarii to: [30578.]\n",
            "Przewidywane PKB dla USA to: [34648.]\n"
          ]
        }
      ]
    },
    {
      "cell_type": "markdown",
      "source": [
        "Model podał zaniżone wartości zarówno dla Szwajcarii oraz USA, jednak nie pomylił się dużo.  \n",
        "\n",
        "Przewidywanie dla Szwajcarii to 30 578\\$ podczas gdy prawdziwa wartośc to 32 700\\$.  \n",
        "\n",
        "Dla USA model podał 34 648\\$, podczas gdy prawdziwa wartość to 37 800\\$. "
      ],
      "metadata": {
        "id": "0YJD1GA2DFHN"
      }
    }
  ]
}